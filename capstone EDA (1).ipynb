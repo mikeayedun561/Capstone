{
 "cells": [
  {
   "cell_type": "code",
   "execution_count": 70,
   "metadata": {},
   "outputs": [],
   "source": [
    "import numpy as np\n",
    "import pandas as pd\n",
    "import matplotlib.pyplot as plt\n",
    "from sklearn.model_selection import train_test_split\n",
    "pd.set_option('display.max_columns',50)\n",
    "%matplotlib inline"
   ]
  },
  {
   "cell_type": "code",
   "execution_count": 71,
   "metadata": {},
   "outputs": [],
   "source": [
    "data = pd.read_excel(\"C:/Users/micha/Downloads/Office_Supply_Campaign_ResultS_7-23-19.xlsx\")"
   ]
  },
  {
   "cell_type": "code",
   "execution_count": 72,
   "metadata": {},
   "outputs": [
    {
     "data": {
      "text/html": [
       "<div>\n",
       "<style scoped>\n",
       "    .dataframe tbody tr th:only-of-type {\n",
       "        vertical-align: middle;\n",
       "    }\n",
       "\n",
       "    .dataframe tbody tr th {\n",
       "        vertical-align: top;\n",
       "    }\n",
       "\n",
       "    .dataframe thead th {\n",
       "        text-align: right;\n",
       "    }\n",
       "</style>\n",
       "<table border=\"1\" class=\"dataframe\">\n",
       "  <thead>\n",
       "    <tr style=\"text-align: right;\">\n",
       "      <th></th>\n",
       "      <th>Customer Number</th>\n",
       "      <th>Campaign Period Sales</th>\n",
       "      <th>Historical Sales Volume</th>\n",
       "      <th>Date of First Purchase</th>\n",
       "      <th>Number of Prior Year Transactions</th>\n",
       "      <th>Do Not Direct Mail Solicit</th>\n",
       "      <th>Do Not Email</th>\n",
       "      <th>Do Not Telemarket</th>\n",
       "      <th>Repurchase Method</th>\n",
       "      <th>Last Transaction Channel</th>\n",
       "      <th>Desk</th>\n",
       "      <th>Executive Chair</th>\n",
       "      <th>Standard Chair</th>\n",
       "      <th>Monitor</th>\n",
       "      <th>Printer</th>\n",
       "      <th>Computer</th>\n",
       "      <th>Insurance</th>\n",
       "      <th>Toner</th>\n",
       "      <th>Office Supplies</th>\n",
       "      <th>Number of Employees</th>\n",
       "      <th>Language</th>\n",
       "    </tr>\n",
       "  </thead>\n",
       "  <tbody>\n",
       "    <tr>\n",
       "      <th>0</th>\n",
       "      <td>86734.0</td>\n",
       "      <td>238.704762</td>\n",
       "      <td>146803.428571</td>\n",
       "      <td>1968-10-01</td>\n",
       "      <td>15.0</td>\n",
       "      <td>0.0</td>\n",
       "      <td>0.0</td>\n",
       "      <td>0.0</td>\n",
       "      <td>AUTO RENEW</td>\n",
       "      <td>AUTO RENEW</td>\n",
       "      <td>N</td>\n",
       "      <td>N</td>\n",
       "      <td>N</td>\n",
       "      <td>N</td>\n",
       "      <td>N</td>\n",
       "      <td>N</td>\n",
       "      <td>Y</td>\n",
       "      <td>N</td>\n",
       "      <td>Y</td>\n",
       "      <td>6-10</td>\n",
       "      <td>English</td>\n",
       "    </tr>\n",
       "    <tr>\n",
       "      <th>1</th>\n",
       "      <td>97098.0</td>\n",
       "      <td>281.680000</td>\n",
       "      <td>439984.160000</td>\n",
       "      <td>1981-06-15</td>\n",
       "      <td>22.0</td>\n",
       "      <td>0.0</td>\n",
       "      <td>0.0</td>\n",
       "      <td>0.0</td>\n",
       "      <td>NOTICE</td>\n",
       "      <td>MAIL</td>\n",
       "      <td>N</td>\n",
       "      <td>N</td>\n",
       "      <td>N</td>\n",
       "      <td>N</td>\n",
       "      <td>N</td>\n",
       "      <td>N</td>\n",
       "      <td>N</td>\n",
       "      <td>N</td>\n",
       "      <td>Y</td>\n",
       "      <td>11-50</td>\n",
       "      <td>English</td>\n",
       "    </tr>\n",
       "    <tr>\n",
       "      <th>2</th>\n",
       "      <td>100836.0</td>\n",
       "      <td>432.857143</td>\n",
       "      <td>970465.714286</td>\n",
       "      <td>1962-11-01</td>\n",
       "      <td>19.0</td>\n",
       "      <td>0.0</td>\n",
       "      <td>0.0</td>\n",
       "      <td>0.0</td>\n",
       "      <td>NOTICE</td>\n",
       "      <td>MAIL</td>\n",
       "      <td>N</td>\n",
       "      <td>N</td>\n",
       "      <td>N</td>\n",
       "      <td>N</td>\n",
       "      <td>N</td>\n",
       "      <td>N</td>\n",
       "      <td>N</td>\n",
       "      <td>N</td>\n",
       "      <td>Y</td>\n",
       "      <td>6-10</td>\n",
       "      <td>English</td>\n",
       "    </tr>\n",
       "    <tr>\n",
       "      <th>3</th>\n",
       "      <td>116390.0</td>\n",
       "      <td>0.000000</td>\n",
       "      <td>230193.600000</td>\n",
       "      <td>1983-06-01</td>\n",
       "      <td>17.0</td>\n",
       "      <td>0.0</td>\n",
       "      <td>0.0</td>\n",
       "      <td>0.0</td>\n",
       "      <td>NOTICE</td>\n",
       "      <td>PHONE</td>\n",
       "      <td>N</td>\n",
       "      <td>N</td>\n",
       "      <td>N</td>\n",
       "      <td>N</td>\n",
       "      <td>N</td>\n",
       "      <td>N</td>\n",
       "      <td>N</td>\n",
       "      <td>N</td>\n",
       "      <td>Y</td>\n",
       "      <td>1-5</td>\n",
       "      <td>English</td>\n",
       "    </tr>\n",
       "    <tr>\n",
       "      <th>4</th>\n",
       "      <td>127914.0</td>\n",
       "      <td>1370.166667</td>\n",
       "      <td>27403.333333</td>\n",
       "      <td>1987-07-15</td>\n",
       "      <td>21.0</td>\n",
       "      <td>0.0</td>\n",
       "      <td>0.0</td>\n",
       "      <td>0.0</td>\n",
       "      <td>NOTICE</td>\n",
       "      <td>BRANCH (PHONE)</td>\n",
       "      <td>N</td>\n",
       "      <td>N</td>\n",
       "      <td>N</td>\n",
       "      <td>N</td>\n",
       "      <td>N</td>\n",
       "      <td>N</td>\n",
       "      <td>Y</td>\n",
       "      <td>N</td>\n",
       "      <td>N</td>\n",
       "      <td></td>\n",
       "      <td>NaN</td>\n",
       "    </tr>\n",
       "  </tbody>\n",
       "</table>\n",
       "</div>"
      ],
      "text/plain": [
       "   Customer Number  Campaign Period Sales  Historical Sales Volume  \\\n",
       "0          86734.0             238.704762            146803.428571   \n",
       "1          97098.0             281.680000            439984.160000   \n",
       "2         100836.0             432.857143            970465.714286   \n",
       "3         116390.0               0.000000            230193.600000   \n",
       "4         127914.0            1370.166667             27403.333333   \n",
       "\n",
       "  Date of First Purchase  Number of Prior Year Transactions  \\\n",
       "0             1968-10-01                               15.0   \n",
       "1             1981-06-15                               22.0   \n",
       "2             1962-11-01                               19.0   \n",
       "3             1983-06-01                               17.0   \n",
       "4             1987-07-15                               21.0   \n",
       "\n",
       "   Do Not Direct Mail Solicit  Do Not Email  Do Not Telemarket  \\\n",
       "0                         0.0           0.0                0.0   \n",
       "1                         0.0           0.0                0.0   \n",
       "2                         0.0           0.0                0.0   \n",
       "3                         0.0           0.0                0.0   \n",
       "4                         0.0           0.0                0.0   \n",
       "\n",
       "  Repurchase Method Last Transaction Channel Desk Executive Chair  \\\n",
       "0        AUTO RENEW               AUTO RENEW    N               N   \n",
       "1            NOTICE                     MAIL    N               N   \n",
       "2            NOTICE                     MAIL    N               N   \n",
       "3            NOTICE                    PHONE    N               N   \n",
       "4            NOTICE           BRANCH (PHONE)    N               N   \n",
       "\n",
       "  Standard Chair Monitor Printer Computer Insurance Toner Office Supplies  \\\n",
       "0              N       N       N        N         Y     N               Y   \n",
       "1              N       N       N        N         N     N               Y   \n",
       "2              N       N       N        N         N     N               Y   \n",
       "3              N       N       N        N         N     N               Y   \n",
       "4              N       N       N        N         Y     N               N   \n",
       "\n",
       "  Number of Employees Language  \n",
       "0                6-10  English  \n",
       "1               11-50  English  \n",
       "2                6-10  English  \n",
       "3                 1-5  English  \n",
       "4                          NaN  "
      ]
     },
     "execution_count": 72,
     "metadata": {},
     "output_type": "execute_result"
    }
   ],
   "source": [
    "data.head()"
   ]
  },
  {
   "cell_type": "code",
   "execution_count": 73,
   "metadata": {},
   "outputs": [
    {
     "name": "stdout",
     "output_type": "stream",
     "text": [
      "<class 'pandas.core.frame.DataFrame'>\n",
      "RangeIndex: 16173 entries, 0 to 16172\n",
      "Data columns (total 21 columns):\n",
      "Customer Number                      16172 non-null float64\n",
      "Campaign Period Sales                16172 non-null float64\n",
      "Historical Sales Volume              16172 non-null float64\n",
      "Date of First Purchase               16172 non-null datetime64[ns]\n",
      "Number of Prior Year Transactions    16172 non-null float64\n",
      "Do Not Direct Mail Solicit           16172 non-null float64\n",
      "Do Not Email                         16172 non-null float64\n",
      "Do Not Telemarket                    16172 non-null float64\n",
      "Repurchase Method                    16172 non-null object\n",
      "Last Transaction Channel             15730 non-null object\n",
      "Desk                                 16173 non-null object\n",
      "Executive Chair                      16171 non-null object\n",
      "Standard Chair                       16171 non-null object\n",
      "Monitor                              16171 non-null object\n",
      "Printer                              16171 non-null object\n",
      "Computer                             16172 non-null object\n",
      "Insurance                            16170 non-null object\n",
      "Toner                                16170 non-null object\n",
      "Office Supplies                      16172 non-null object\n",
      "Number of Employees                  16170 non-null object\n",
      "Language                             11701 non-null object\n",
      "dtypes: datetime64[ns](1), float64(7), object(13)\n",
      "memory usage: 2.6+ MB\n"
     ]
    }
   ],
   "source": [
    "data.info()"
   ]
  },
  {
   "cell_type": "code",
   "execution_count": 76,
   "metadata": {},
   "outputs": [],
   "source": [
    "data[\"Language\"].fillna(value=\"n/a\",inplace = True)\n",
    "data[\"Last Transaction Channel\"].fillna(value=\"n/a\",inplace = True)"
   ]
  },
  {
   "cell_type": "code",
   "execution_count": 77,
   "metadata": {},
   "outputs": [
    {
     "name": "stdout",
     "output_type": "stream",
     "text": [
      "<class 'pandas.core.frame.DataFrame'>\n",
      "RangeIndex: 16173 entries, 0 to 16172\n",
      "Data columns (total 21 columns):\n",
      "Customer Number                      16172 non-null float64\n",
      "Campaign Period Sales                16172 non-null float64\n",
      "Historical Sales Volume              16172 non-null float64\n",
      "Date of First Purchase               16172 non-null datetime64[ns]\n",
      "Number of Prior Year Transactions    16172 non-null float64\n",
      "Do Not Direct Mail Solicit           16172 non-null float64\n",
      "Do Not Email                         16172 non-null float64\n",
      "Do Not Telemarket                    16172 non-null float64\n",
      "Repurchase Method                    16172 non-null object\n",
      "Last Transaction Channel             16173 non-null object\n",
      "Desk                                 16173 non-null object\n",
      "Executive Chair                      16171 non-null object\n",
      "Standard Chair                       16171 non-null object\n",
      "Monitor                              16171 non-null object\n",
      "Printer                              16171 non-null object\n",
      "Computer                             16172 non-null object\n",
      "Insurance                            16170 non-null object\n",
      "Toner                                16170 non-null object\n",
      "Office Supplies                      16172 non-null object\n",
      "Number of Employees                  16170 non-null object\n",
      "Language                             16173 non-null object\n",
      "dtypes: datetime64[ns](1), float64(7), object(13)\n",
      "memory usage: 2.6+ MB\n"
     ]
    }
   ],
   "source": [
    "data.info()"
   ]
  },
  {
   "cell_type": "code",
   "execution_count": 78,
   "metadata": {},
   "outputs": [
    {
     "data": {
      "text/plain": [
       "16173"
      ]
     },
     "execution_count": 78,
     "metadata": {},
     "output_type": "execute_result"
    }
   ],
   "source": [
    "len(data[\"Customer Number\"].unique())"
   ]
  },
  {
   "cell_type": "code",
   "execution_count": 79,
   "metadata": {},
   "outputs": [
    {
     "data": {
      "text/plain": [
       "count    16172.000000\n",
       "mean       245.896967\n",
       "std        720.317450\n",
       "min       -566.500000\n",
       "25%          0.000000\n",
       "50%          0.000000\n",
       "75%        145.669048\n",
       "max       8936.850000\n",
       "Name: Campaign Period Sales, dtype: float64"
      ]
     },
     "execution_count": 79,
     "metadata": {},
     "output_type": "execute_result"
    }
   ],
   "source": [
    "data[\"Campaign Period Sales\"].describe()"
   ]
  },
  {
   "cell_type": "code",
   "execution_count": 80,
   "metadata": {},
   "outputs": [
    {
     "data": {
      "text/plain": [
       "(6, 21)"
      ]
     },
     "execution_count": 80,
     "metadata": {},
     "output_type": "execute_result"
    }
   ],
   "source": [
    "data.loc[data[\"Campaign Period Sales\"]<0].shape"
   ]
  },
  {
   "cell_type": "code",
   "execution_count": 81,
   "metadata": {},
   "outputs": [],
   "source": [
    "data = data.loc[data[\"Campaign Period Sales\"]>=0]"
   ]
  },
  {
   "cell_type": "code",
   "execution_count": 82,
   "metadata": {},
   "outputs": [
    {
     "data": {
      "text/plain": [
       "count    16166.000000\n",
       "mean       246.076325\n",
       "std        720.381442\n",
       "min          0.000000\n",
       "25%          0.000000\n",
       "50%          0.000000\n",
       "75%        145.709048\n",
       "max       8936.850000\n",
       "Name: Campaign Period Sales, dtype: float64"
      ]
     },
     "execution_count": 82,
     "metadata": {},
     "output_type": "execute_result"
    }
   ],
   "source": [
    "data[\"Campaign Period Sales\"].describe()"
   ]
  },
  {
   "cell_type": "code",
   "execution_count": 83,
   "metadata": {},
   "outputs": [],
   "source": [
    "data = data.loc[data[\"Customer Number\"].notnull()]"
   ]
  },
  {
   "cell_type": "code",
   "execution_count": 84,
   "metadata": {},
   "outputs": [
    {
     "name": "stdout",
     "output_type": "stream",
     "text": [
      "<class 'pandas.core.frame.DataFrame'>\n",
      "Int64Index: 16166 entries, 0 to 16171\n",
      "Data columns (total 21 columns):\n",
      "Customer Number                      16166 non-null float64\n",
      "Campaign Period Sales                16166 non-null float64\n",
      "Historical Sales Volume              16166 non-null float64\n",
      "Date of First Purchase               16166 non-null datetime64[ns]\n",
      "Number of Prior Year Transactions    16166 non-null float64\n",
      "Do Not Direct Mail Solicit           16166 non-null float64\n",
      "Do Not Email                         16166 non-null float64\n",
      "Do Not Telemarket                    16166 non-null float64\n",
      "Repurchase Method                    16166 non-null object\n",
      "Last Transaction Channel             16166 non-null object\n",
      "Desk                                 16166 non-null object\n",
      "Executive Chair                      16165 non-null object\n",
      "Standard Chair                       16165 non-null object\n",
      "Monitor                              16165 non-null object\n",
      "Printer                              16165 non-null object\n",
      "Computer                             16166 non-null object\n",
      "Insurance                            16164 non-null object\n",
      "Toner                                16164 non-null object\n",
      "Office Supplies                      16166 non-null object\n",
      "Number of Employees                  16164 non-null object\n",
      "Language                             16166 non-null object\n",
      "dtypes: datetime64[ns](1), float64(7), object(13)\n",
      "memory usage: 2.7+ MB\n"
     ]
    }
   ],
   "source": [
    "data.info()"
   ]
  },
  {
   "cell_type": "code",
   "execution_count": 85,
   "metadata": {},
   "outputs": [
    {
     "data": {
      "text/plain": [
       "<matplotlib.axes._subplots.AxesSubplot at 0x29d145cc7b8>"
      ]
     },
     "execution_count": 85,
     "metadata": {},
     "output_type": "execute_result"
    },
    {
     "data": {
      "image/png": "[encoded data removed]",
      "text/plain": [
       "<Figure size 432x288 with 1 Axes>"
      ]
     },
     "metadata": {
      "needs_background": "light"
     },
     "output_type": "display_data"
    }
   ],
   "source": [
    "data[\"Campaign Period Sales\"].hist()"
   ]
  },
  {
   "cell_type": "code",
   "execution_count": 86,
   "metadata": {},
   "outputs": [
    {
     "data": {
      "text/plain": [
       "count    1.616600e+04\n",
       "mean     6.718834e+05\n",
       "std      9.567383e+05\n",
       "min     -1.643031e+05\n",
       "25%      1.901214e+05\n",
       "50%      3.965674e+05\n",
       "75%      7.878854e+05\n",
       "max      3.441213e+07\n",
       "Name: Historical Sales Volume, dtype: float64"
      ]
     },
     "execution_count": 86,
     "metadata": {},
     "output_type": "execute_result"
    }
   ],
   "source": [
    "data[\"Historical Sales Volume\"].describe()"
   ]
  },
  {
   "cell_type": "code",
   "execution_count": 87,
   "metadata": {},
   "outputs": [
    {
     "data": {
      "text/plain": [
       "16166"
      ]
     },
     "execution_count": 87,
     "metadata": {},
     "output_type": "execute_result"
    }
   ],
   "source": [
    "len(data[\"Historical Sales Volume\"])"
   ]
  },
  {
   "cell_type": "code",
   "execution_count": 88,
   "metadata": {},
   "outputs": [
    {
     "data": {
      "text/html": [
       "<div>\n",
       "<style scoped>\n",
       "    .dataframe tbody tr th:only-of-type {\n",
       "        vertical-align: middle;\n",
       "    }\n",
       "\n",
       "    .dataframe tbody tr th {\n",
       "        vertical-align: top;\n",
       "    }\n",
       "\n",
       "    .dataframe thead th {\n",
       "        text-align: right;\n",
       "    }\n",
       "</style>\n",
       "<table border=\"1\" class=\"dataframe\">\n",
       "  <thead>\n",
       "    <tr style=\"text-align: right;\">\n",
       "      <th></th>\n",
       "      <th>Customer Number</th>\n",
       "      <th>Campaign Period Sales</th>\n",
       "      <th>Historical Sales Volume</th>\n",
       "      <th>Date of First Purchase</th>\n",
       "      <th>Number of Prior Year Transactions</th>\n",
       "      <th>Do Not Direct Mail Solicit</th>\n",
       "      <th>Do Not Email</th>\n",
       "      <th>Do Not Telemarket</th>\n",
       "      <th>Repurchase Method</th>\n",
       "      <th>Last Transaction Channel</th>\n",
       "      <th>Desk</th>\n",
       "      <th>Executive Chair</th>\n",
       "      <th>Standard Chair</th>\n",
       "      <th>Monitor</th>\n",
       "      <th>Printer</th>\n",
       "      <th>Computer</th>\n",
       "      <th>Insurance</th>\n",
       "      <th>Toner</th>\n",
       "      <th>Office Supplies</th>\n",
       "      <th>Number of Employees</th>\n",
       "      <th>Language</th>\n",
       "    </tr>\n",
       "  </thead>\n",
       "  <tbody>\n",
       "    <tr>\n",
       "      <th>2216</th>\n",
       "      <td>5125266.0</td>\n",
       "      <td>0.0</td>\n",
       "      <td>-126638.40</td>\n",
       "      <td>1995-10-01</td>\n",
       "      <td>18.0</td>\n",
       "      <td>0.0</td>\n",
       "      <td>0.0</td>\n",
       "      <td>0.0</td>\n",
       "      <td>NOTICE</td>\n",
       "      <td>MAIL</td>\n",
       "      <td>N</td>\n",
       "      <td>N</td>\n",
       "      <td>N</td>\n",
       "      <td>N</td>\n",
       "      <td>N</td>\n",
       "      <td>N</td>\n",
       "      <td>N</td>\n",
       "      <td>N</td>\n",
       "      <td>Y</td>\n",
       "      <td>1-5</td>\n",
       "      <td>English</td>\n",
       "    </tr>\n",
       "    <tr>\n",
       "      <th>6139</th>\n",
       "      <td>13758714.0</td>\n",
       "      <td>0.0</td>\n",
       "      <td>-20021.76</td>\n",
       "      <td>2015-07-22</td>\n",
       "      <td>16.0</td>\n",
       "      <td>1.0</td>\n",
       "      <td>0.0</td>\n",
       "      <td>1.0</td>\n",
       "      <td>NOTICE</td>\n",
       "      <td>WEB</td>\n",
       "      <td>N</td>\n",
       "      <td>N</td>\n",
       "      <td>N</td>\n",
       "      <td>N</td>\n",
       "      <td>N</td>\n",
       "      <td>N</td>\n",
       "      <td>N</td>\n",
       "      <td>N</td>\n",
       "      <td>Y</td>\n",
       "      <td>1-5</td>\n",
       "      <td>English</td>\n",
       "    </tr>\n",
       "    <tr>\n",
       "      <th>9300</th>\n",
       "      <td>20726836.0</td>\n",
       "      <td>0.0</td>\n",
       "      <td>-9184.00</td>\n",
       "      <td>2011-01-05</td>\n",
       "      <td>16.0</td>\n",
       "      <td>0.0</td>\n",
       "      <td>0.0</td>\n",
       "      <td>0.0</td>\n",
       "      <td>NOTICE</td>\n",
       "      <td>MAIL</td>\n",
       "      <td>N</td>\n",
       "      <td>N</td>\n",
       "      <td>N</td>\n",
       "      <td>N</td>\n",
       "      <td>N</td>\n",
       "      <td>N</td>\n",
       "      <td>N</td>\n",
       "      <td>N</td>\n",
       "      <td>Y</td>\n",
       "      <td>1-5</td>\n",
       "      <td>English</td>\n",
       "    </tr>\n",
       "    <tr>\n",
       "      <th>12548</th>\n",
       "      <td>28176445.0</td>\n",
       "      <td>0.0</td>\n",
       "      <td>-164303.10</td>\n",
       "      <td>2012-10-31</td>\n",
       "      <td>18.0</td>\n",
       "      <td>1.0</td>\n",
       "      <td>1.0</td>\n",
       "      <td>1.0</td>\n",
       "      <td>AUTO RENEW</td>\n",
       "      <td>PHONE</td>\n",
       "      <td>N</td>\n",
       "      <td>N</td>\n",
       "      <td>N</td>\n",
       "      <td>N</td>\n",
       "      <td>N</td>\n",
       "      <td>N</td>\n",
       "      <td>N</td>\n",
       "      <td>N</td>\n",
       "      <td>N</td>\n",
       "      <td>11-50</td>\n",
       "      <td>English</td>\n",
       "    </tr>\n",
       "  </tbody>\n",
       "</table>\n",
       "</div>"
      ],
      "text/plain": [
       "       Customer Number  Campaign Period Sales  Historical Sales Volume  \\\n",
       "2216         5125266.0                    0.0               -126638.40   \n",
       "6139        13758714.0                    0.0                -20021.76   \n",
       "9300        20726836.0                    0.0                 -9184.00   \n",
       "12548       28176445.0                    0.0               -164303.10   \n",
       "\n",
       "      Date of First Purchase  Number of Prior Year Transactions  \\\n",
       "2216              1995-10-01                               18.0   \n",
       "6139              2015-07-22                               16.0   \n",
       "9300              2011-01-05                               16.0   \n",
       "12548             2012-10-31                               18.0   \n",
       "\n",
       "       Do Not Direct Mail Solicit  Do Not Email  Do Not Telemarket  \\\n",
       "2216                          0.0           0.0                0.0   \n",
       "6139                          1.0           0.0                1.0   \n",
       "9300                          0.0           0.0                0.0   \n",
       "12548                         1.0           1.0                1.0   \n",
       "\n",
       "      Repurchase Method Last Transaction Channel Desk Executive Chair  \\\n",
       "2216             NOTICE                     MAIL    N               N   \n",
       "6139             NOTICE                      WEB    N               N   \n",
       "9300             NOTICE                     MAIL    N               N   \n",
       "12548        AUTO RENEW                    PHONE    N               N   \n",
       "\n",
       "      Standard Chair Monitor Printer Computer Insurance Toner Office Supplies  \\\n",
       "2216               N       N       N        N         N     N               Y   \n",
       "6139               N       N       N        N         N     N               Y   \n",
       "9300               N       N       N        N         N     N               Y   \n",
       "12548              N       N       N        N         N     N               N   \n",
       "\n",
       "      Number of Employees Language  \n",
       "2216                  1-5  English  \n",
       "6139                  1-5  English  \n",
       "9300                  1-5  English  \n",
       "12548               11-50  English  "
      ]
     },
     "execution_count": 88,
     "metadata": {},
     "output_type": "execute_result"
    }
   ],
   "source": [
    "data.loc[data[\"Historical Sales Volume\"]<0]"
   ]
  },
  {
   "cell_type": "code",
   "execution_count": 90,
   "metadata": {},
   "outputs": [],
   "source": [
    "data = data.loc[data[\"Historical Sales Volume\"]>=0]"
   ]
  },
  {
   "cell_type": "code",
   "execution_count": 91,
   "metadata": {},
   "outputs": [
    {
     "data": {
      "text/plain": [
       "<matplotlib.axes._subplots.AxesSubplot at 0x29d14ef5160>"
      ]
     },
     "execution_count": 91,
     "metadata": {},
     "output_type": "execute_result"
    },
    {
     "data": {
      "image/png": "[encoded data removed]",
      "text/plain": [
       "<Figure size 432x288 with 1 Axes>"
      ]
     },
     "metadata": {
      "needs_background": "light"
     },
     "output_type": "display_data"
    }
   ],
   "source": [
    "data[\"Historical Sales Volume\"].hist()"
   ]
  },
  {
   "cell_type": "code",
   "execution_count": 92,
   "metadata": {},
   "outputs": [
    {
     "data": {
      "text/plain": [
       "count    16162.000000\n",
       "mean        14.483913\n",
       "std          8.031489\n",
       "min          1.000000\n",
       "25%          8.000000\n",
       "50%         16.000000\n",
       "75%         20.000000\n",
       "max        313.000000\n",
       "Name: Number of Prior Year Transactions, dtype: float64"
      ]
     },
     "execution_count": 92,
     "metadata": {},
     "output_type": "execute_result"
    }
   ],
   "source": [
    "data[\"Number of Prior Year Transactions\"].describe()"
   ]
  },
  {
   "cell_type": "code",
   "execution_count": 93,
   "metadata": {},
   "outputs": [
    {
     "data": {
      "text/plain": [
       "<matplotlib.axes._subplots.AxesSubplot at 0x29d14ef5a58>"
      ]
     },
     "execution_count": 93,
     "metadata": {},
     "output_type": "execute_result"
    },
    {
     "data": {
      "image/png": "[encoded data removed]",
      "text/plain": [
       "<Figure size 432x288 with 1 Axes>"
      ]
     },
     "metadata": {
      "needs_background": "light"
     },
     "output_type": "display_data"
    }
   ],
   "source": [
    "data[\"Number of Prior Year Transactions\"].hist()"
   ]
  },
  {
   "cell_type": "code",
   "execution_count": 94,
   "metadata": {},
   "outputs": [
    {
     "data": {
      "text/html": [
       "<div>\n",
       "<style scoped>\n",
       "    .dataframe tbody tr th:only-of-type {\n",
       "        vertical-align: middle;\n",
       "    }\n",
       "\n",
       "    .dataframe tbody tr th {\n",
       "        vertical-align: top;\n",
       "    }\n",
       "\n",
       "    .dataframe thead th {\n",
       "        text-align: right;\n",
       "    }\n",
       "</style>\n",
       "<table border=\"1\" class=\"dataframe\">\n",
       "  <thead>\n",
       "    <tr style=\"text-align: right;\">\n",
       "      <th></th>\n",
       "      <th>Customer Number</th>\n",
       "      <th>Campaign Period Sales</th>\n",
       "      <th>Historical Sales Volume</th>\n",
       "      <th>Date of First Purchase</th>\n",
       "      <th>Number of Prior Year Transactions</th>\n",
       "      <th>Do Not Direct Mail Solicit</th>\n",
       "      <th>Do Not Email</th>\n",
       "      <th>Do Not Telemarket</th>\n",
       "      <th>Repurchase Method</th>\n",
       "      <th>Last Transaction Channel</th>\n",
       "      <th>Desk</th>\n",
       "      <th>Executive Chair</th>\n",
       "      <th>Standard Chair</th>\n",
       "      <th>Monitor</th>\n",
       "      <th>Printer</th>\n",
       "      <th>Computer</th>\n",
       "      <th>Insurance</th>\n",
       "      <th>Toner</th>\n",
       "      <th>Office Supplies</th>\n",
       "      <th>Number of Employees</th>\n",
       "      <th>Language</th>\n",
       "    </tr>\n",
       "  </thead>\n",
       "  <tbody>\n",
       "    <tr>\n",
       "      <th>3331</th>\n",
       "      <td>7585835.0</td>\n",
       "      <td>2629.666667</td>\n",
       "      <td>163039.333333</td>\n",
       "      <td>1979-02-01</td>\n",
       "      <td>313.0</td>\n",
       "      <td>1.0</td>\n",
       "      <td>0.0</td>\n",
       "      <td>1.0</td>\n",
       "      <td>NOTICE</td>\n",
       "      <td>MAIL</td>\n",
       "      <td>N</td>\n",
       "      <td>N</td>\n",
       "      <td>N</td>\n",
       "      <td>N</td>\n",
       "      <td>N</td>\n",
       "      <td>N</td>\n",
       "      <td>N</td>\n",
       "      <td>N</td>\n",
       "      <td>N</td>\n",
       "      <td></td>\n",
       "      <td>n/a</td>\n",
       "    </tr>\n",
       "  </tbody>\n",
       "</table>\n",
       "</div>"
      ],
      "text/plain": [
       "      Customer Number  Campaign Period Sales  Historical Sales Volume  \\\n",
       "3331        7585835.0            2629.666667            163039.333333   \n",
       "\n",
       "     Date of First Purchase  Number of Prior Year Transactions  \\\n",
       "3331             1979-02-01                              313.0   \n",
       "\n",
       "      Do Not Direct Mail Solicit  Do Not Email  Do Not Telemarket  \\\n",
       "3331                         1.0           0.0                1.0   \n",
       "\n",
       "     Repurchase Method Last Transaction Channel Desk Executive Chair  \\\n",
       "3331            NOTICE                     MAIL    N               N   \n",
       "\n",
       "     Standard Chair Monitor Printer Computer Insurance Toner Office Supplies  \\\n",
       "3331              N       N       N        N         N     N               N   \n",
       "\n",
       "     Number of Employees Language  \n",
       "3331                          n/a  "
      ]
     },
     "execution_count": 94,
     "metadata": {},
     "output_type": "execute_result"
    }
   ],
   "source": [
    "data.loc[data[\"Number of Prior Year Transactions\"]>300]"
   ]
  },
  {
   "cell_type": "code",
   "execution_count": 95,
   "metadata": {},
   "outputs": [
    {
     "data": {
      "text/plain": [
       "0       18789 days 17:55:57.497944\n",
       "1       14149 days 17:55:57.497944\n",
       "2       20950 days 17:55:57.497944\n",
       "3       13433 days 17:55:57.497944\n",
       "4       11928 days 17:55:57.497944\n",
       "                   ...            \n",
       "16167    8853 days 17:55:57.497944\n",
       "16168    9415 days 17:55:57.497944\n",
       "16169    9201 days 17:55:57.497944\n",
       "16170    8805 days 17:55:57.497944\n",
       "16171    8032 days 17:55:57.497944\n",
       "Name: Date of First Purchase, Length: 16162, dtype: timedelta64[ns]"
      ]
     },
     "execution_count": 95,
     "metadata": {},
     "output_type": "execute_result"
    }
   ],
   "source": [
    "time_now = pd.datetime.now()\n",
    "time_membership = time_now - data[\"Date of First Purchase\"] \n",
    "time_membership\n"
   ]
  },
  {
   "cell_type": "code",
   "execution_count": 96,
   "metadata": {},
   "outputs": [],
   "source": [
    "data[\"Time since first purchase\"] = time_now - data[\"Date of First Purchase\"] \n"
   ]
  },
  {
   "cell_type": "code",
   "execution_count": 97,
   "metadata": {},
   "outputs": [
    {
     "data": {
      "text/html": [
       "<div>\n",
       "<style scoped>\n",
       "    .dataframe tbody tr th:only-of-type {\n",
       "        vertical-align: middle;\n",
       "    }\n",
       "\n",
       "    .dataframe tbody tr th {\n",
       "        vertical-align: top;\n",
       "    }\n",
       "\n",
       "    .dataframe thead th {\n",
       "        text-align: right;\n",
       "    }\n",
       "</style>\n",
       "<table border=\"1\" class=\"dataframe\">\n",
       "  <thead>\n",
       "    <tr style=\"text-align: right;\">\n",
       "      <th></th>\n",
       "      <th>Customer Number</th>\n",
       "      <th>Campaign Period Sales</th>\n",
       "      <th>Historical Sales Volume</th>\n",
       "      <th>Date of First Purchase</th>\n",
       "      <th>Number of Prior Year Transactions</th>\n",
       "      <th>Do Not Direct Mail Solicit</th>\n",
       "      <th>Do Not Email</th>\n",
       "      <th>Do Not Telemarket</th>\n",
       "      <th>Repurchase Method</th>\n",
       "      <th>Last Transaction Channel</th>\n",
       "      <th>Desk</th>\n",
       "      <th>Executive Chair</th>\n",
       "      <th>Standard Chair</th>\n",
       "      <th>Monitor</th>\n",
       "      <th>Printer</th>\n",
       "      <th>Computer</th>\n",
       "      <th>Insurance</th>\n",
       "      <th>Toner</th>\n",
       "      <th>Office Supplies</th>\n",
       "      <th>Number of Employees</th>\n",
       "      <th>Language</th>\n",
       "      <th>Time since first purchase</th>\n",
       "    </tr>\n",
       "  </thead>\n",
       "  <tbody>\n",
       "    <tr>\n",
       "      <th>0</th>\n",
       "      <td>86734.0</td>\n",
       "      <td>238.704762</td>\n",
       "      <td>146803.428571</td>\n",
       "      <td>1968-10-01</td>\n",
       "      <td>15.0</td>\n",
       "      <td>0.0</td>\n",
       "      <td>0.0</td>\n",
       "      <td>0.0</td>\n",
       "      <td>AUTO RENEW</td>\n",
       "      <td>AUTO RENEW</td>\n",
       "      <td>N</td>\n",
       "      <td>N</td>\n",
       "      <td>N</td>\n",
       "      <td>N</td>\n",
       "      <td>N</td>\n",
       "      <td>N</td>\n",
       "      <td>Y</td>\n",
       "      <td>N</td>\n",
       "      <td>Y</td>\n",
       "      <td>6-10</td>\n",
       "      <td>English</td>\n",
       "      <td>18789 days 17:55:57.497944</td>\n",
       "    </tr>\n",
       "    <tr>\n",
       "      <th>1</th>\n",
       "      <td>97098.0</td>\n",
       "      <td>281.680000</td>\n",
       "      <td>439984.160000</td>\n",
       "      <td>1981-06-15</td>\n",
       "      <td>22.0</td>\n",
       "      <td>0.0</td>\n",
       "      <td>0.0</td>\n",
       "      <td>0.0</td>\n",
       "      <td>NOTICE</td>\n",
       "      <td>MAIL</td>\n",
       "      <td>N</td>\n",
       "      <td>N</td>\n",
       "      <td>N</td>\n",
       "      <td>N</td>\n",
       "      <td>N</td>\n",
       "      <td>N</td>\n",
       "      <td>N</td>\n",
       "      <td>N</td>\n",
       "      <td>Y</td>\n",
       "      <td>11-50</td>\n",
       "      <td>English</td>\n",
       "      <td>14149 days 17:55:57.497944</td>\n",
       "    </tr>\n",
       "    <tr>\n",
       "      <th>2</th>\n",
       "      <td>100836.0</td>\n",
       "      <td>432.857143</td>\n",
       "      <td>970465.714286</td>\n",
       "      <td>1962-11-01</td>\n",
       "      <td>19.0</td>\n",
       "      <td>0.0</td>\n",
       "      <td>0.0</td>\n",
       "      <td>0.0</td>\n",
       "      <td>NOTICE</td>\n",
       "      <td>MAIL</td>\n",
       "      <td>N</td>\n",
       "      <td>N</td>\n",
       "      <td>N</td>\n",
       "      <td>N</td>\n",
       "      <td>N</td>\n",
       "      <td>N</td>\n",
       "      <td>N</td>\n",
       "      <td>N</td>\n",
       "      <td>Y</td>\n",
       "      <td>6-10</td>\n",
       "      <td>English</td>\n",
       "      <td>20950 days 17:55:57.497944</td>\n",
       "    </tr>\n",
       "    <tr>\n",
       "      <th>3</th>\n",
       "      <td>116390.0</td>\n",
       "      <td>0.000000</td>\n",
       "      <td>230193.600000</td>\n",
       "      <td>1983-06-01</td>\n",
       "      <td>17.0</td>\n",
       "      <td>0.0</td>\n",
       "      <td>0.0</td>\n",
       "      <td>0.0</td>\n",
       "      <td>NOTICE</td>\n",
       "      <td>PHONE</td>\n",
       "      <td>N</td>\n",
       "      <td>N</td>\n",
       "      <td>N</td>\n",
       "      <td>N</td>\n",
       "      <td>N</td>\n",
       "      <td>N</td>\n",
       "      <td>N</td>\n",
       "      <td>N</td>\n",
       "      <td>Y</td>\n",
       "      <td>1-5</td>\n",
       "      <td>English</td>\n",
       "      <td>13433 days 17:55:57.497944</td>\n",
       "    </tr>\n",
       "    <tr>\n",
       "      <th>4</th>\n",
       "      <td>127914.0</td>\n",
       "      <td>1370.166667</td>\n",
       "      <td>27403.333333</td>\n",
       "      <td>1987-07-15</td>\n",
       "      <td>21.0</td>\n",
       "      <td>0.0</td>\n",
       "      <td>0.0</td>\n",
       "      <td>0.0</td>\n",
       "      <td>NOTICE</td>\n",
       "      <td>BRANCH (PHONE)</td>\n",
       "      <td>N</td>\n",
       "      <td>N</td>\n",
       "      <td>N</td>\n",
       "      <td>N</td>\n",
       "      <td>N</td>\n",
       "      <td>N</td>\n",
       "      <td>Y</td>\n",
       "      <td>N</td>\n",
       "      <td>N</td>\n",
       "      <td></td>\n",
       "      <td>n/a</td>\n",
       "      <td>11928 days 17:55:57.497944</td>\n",
       "    </tr>\n",
       "  </tbody>\n",
       "</table>\n",
       "</div>"
      ],
      "text/plain": [
       "   Customer Number  Campaign Period Sales  Historical Sales Volume  \\\n",
       "0          86734.0             238.704762            146803.428571   \n",
       "1          97098.0             281.680000            439984.160000   \n",
       "2         100836.0             432.857143            970465.714286   \n",
       "3         116390.0               0.000000            230193.600000   \n",
       "4         127914.0            1370.166667             27403.333333   \n",
       "\n",
       "  Date of First Purchase  Number of Prior Year Transactions  \\\n",
       "0             1968-10-01                               15.0   \n",
       "1             1981-06-15                               22.0   \n",
       "2             1962-11-01                               19.0   \n",
       "3             1983-06-01                               17.0   \n",
       "4             1987-07-15                               21.0   \n",
       "\n",
       "   Do Not Direct Mail Solicit  Do Not Email  Do Not Telemarket  \\\n",
       "0                         0.0           0.0                0.0   \n",
       "1                         0.0           0.0                0.0   \n",
       "2                         0.0           0.0                0.0   \n",
       "3                         0.0           0.0                0.0   \n",
       "4                         0.0           0.0                0.0   \n",
       "\n",
       "  Repurchase Method Last Transaction Channel Desk Executive Chair  \\\n",
       "0        AUTO RENEW               AUTO RENEW    N               N   \n",
       "1            NOTICE                     MAIL    N               N   \n",
       "2            NOTICE                     MAIL    N               N   \n",
       "3            NOTICE                    PHONE    N               N   \n",
       "4            NOTICE           BRANCH (PHONE)    N               N   \n",
       "\n",
       "  Standard Chair Monitor Printer Computer Insurance Toner Office Supplies  \\\n",
       "0              N       N       N        N         Y     N               Y   \n",
       "1              N       N       N        N         N     N               Y   \n",
       "2              N       N       N        N         N     N               Y   \n",
       "3              N       N       N        N         N     N               Y   \n",
       "4              N       N       N        N         Y     N               N   \n",
       "\n",
       "  Number of Employees Language  Time since first purchase  \n",
       "0                6-10  English 18789 days 17:55:57.497944  \n",
       "1               11-50  English 14149 days 17:55:57.497944  \n",
       "2                6-10  English 20950 days 17:55:57.497944  \n",
       "3                 1-5  English 13433 days 17:55:57.497944  \n",
       "4                          n/a 11928 days 17:55:57.497944  "
      ]
     },
     "execution_count": 97,
     "metadata": {},
     "output_type": "execute_result"
    }
   ],
   "source": [
    "data.head()"
   ]
  },
  {
   "cell_type": "code",
   "execution_count": 98,
   "metadata": {},
   "outputs": [
    {
     "data": {
      "text/plain": [
       "0        18789\n",
       "1        14149\n",
       "2        20950\n",
       "3        13433\n",
       "4        11928\n",
       "         ...  \n",
       "16167     8853\n",
       "16168     9415\n",
       "16169     9201\n",
       "16170     8805\n",
       "16171     8032\n",
       "Name: Days of contact, Length: 16162, dtype: int64"
      ]
     },
     "execution_count": 98,
     "metadata": {},
     "output_type": "execute_result"
    }
   ],
   "source": [
    "data[\"Days of contact\"] = data[\"Time since first purchase\"].dt.days\n",
    "data['Days of contact']"
   ]
  },
  {
   "cell_type": "code",
   "execution_count": 99,
   "metadata": {},
   "outputs": [
    {
     "data": {
      "text/plain": [
       "<matplotlib.axes._subplots.AxesSubplot at 0x29d145560f0>"
      ]
     },
     "execution_count": 99,
     "metadata": {},
     "output_type": "execute_result"
    },
    {
     "data": {
      "image/png": "[encoded data removed]",
      "text/plain": [
       "<Figure size 432x288 with 1 Axes>"
      ]
     },
     "metadata": {
      "needs_background": "light"
     },
     "output_type": "display_data"
    }
   ],
   "source": [
    "data[\"Days of contact\"].hist()"
   ]
  },
  {
   "cell_type": "code",
   "execution_count": 100,
   "metadata": {},
   "outputs": [
    {
     "data": {
      "text/plain": [
       "<matplotlib.collections.PathCollection at 0x29d1304c2b0>"
      ]
     },
     "execution_count": 100,
     "metadata": {},
     "output_type": "execute_result"
    },
    {
     "data": {
      "image/png": "[encoded data removed]",
      "text/plain": [
       "<Figure size 432x288 with 1 Axes>"
      ]
     },
     "metadata": {
      "needs_background": "light"
     },
     "output_type": "display_data"
    }
   ],
   "source": [
    "plt.scatter(data[\"Days of contact\"],np.log(data[\"Historical Sales Volume\"]))"
   ]
  },
  {
   "cell_type": "code",
   "execution_count": 101,
   "metadata": {},
   "outputs": [
    {
     "data": {
      "text/plain": [
       "<matplotlib.collections.PathCollection at 0x29d130a59e8>"
      ]
     },
     "execution_count": 101,
     "metadata": {},
     "output_type": "execute_result"
    },
    {
     "data": {
      "image/png": "[encoded data removed]",
      "text/plain": [
       "<Figure size 432x288 with 1 Axes>"
      ]
     },
     "metadata": {
      "needs_background": "light"
     },
     "output_type": "display_data"
    }
   ],
   "source": [
    "plt.scatter(data[\"Days of contact\"],data[\"Campaign Period Sales\"])"
   ]
  },
  {
   "cell_type": "code",
   "execution_count": 102,
   "metadata": {},
   "outputs": [],
   "source": [
    "products = [\"Desk\",\"Executive Chair\",\"Standard Chair\",\"Monitor\",\"Printer\",\"Computer\",\"Insurance\",\"Toner\",\"Office Supplies\"]\n"
   ]
  },
  {
   "cell_type": "code",
   "execution_count": 103,
   "metadata": {},
   "outputs": [],
   "source": [
    "prods = data.loc[:,products]\n"
   ]
  },
  {
   "cell_type": "code",
   "execution_count": 104,
   "metadata": {},
   "outputs": [
    {
     "data": {
      "text/html": [
       "<div>\n",
       "<style scoped>\n",
       "    .dataframe tbody tr th:only-of-type {\n",
       "        vertical-align: middle;\n",
       "    }\n",
       "\n",
       "    .dataframe tbody tr th {\n",
       "        vertical-align: top;\n",
       "    }\n",
       "\n",
       "    .dataframe thead th {\n",
       "        text-align: right;\n",
       "    }\n",
       "</style>\n",
       "<table border=\"1\" class=\"dataframe\">\n",
       "  <thead>\n",
       "    <tr style=\"text-align: right;\">\n",
       "      <th></th>\n",
       "      <th>Desk</th>\n",
       "      <th>Executive Chair</th>\n",
       "      <th>Standard Chair</th>\n",
       "      <th>Monitor</th>\n",
       "      <th>Printer</th>\n",
       "      <th>Computer</th>\n",
       "      <th>Insurance</th>\n",
       "      <th>Toner</th>\n",
       "      <th>Office Supplies</th>\n",
       "    </tr>\n",
       "  </thead>\n",
       "  <tbody>\n",
       "    <tr>\n",
       "      <th>0</th>\n",
       "      <td>N</td>\n",
       "      <td>N</td>\n",
       "      <td>N</td>\n",
       "      <td>N</td>\n",
       "      <td>N</td>\n",
       "      <td>N</td>\n",
       "      <td>Y</td>\n",
       "      <td>N</td>\n",
       "      <td>Y</td>\n",
       "    </tr>\n",
       "    <tr>\n",
       "      <th>1</th>\n",
       "      <td>N</td>\n",
       "      <td>N</td>\n",
       "      <td>N</td>\n",
       "      <td>N</td>\n",
       "      <td>N</td>\n",
       "      <td>N</td>\n",
       "      <td>N</td>\n",
       "      <td>N</td>\n",
       "      <td>Y</td>\n",
       "    </tr>\n",
       "    <tr>\n",
       "      <th>2</th>\n",
       "      <td>N</td>\n",
       "      <td>N</td>\n",
       "      <td>N</td>\n",
       "      <td>N</td>\n",
       "      <td>N</td>\n",
       "      <td>N</td>\n",
       "      <td>N</td>\n",
       "      <td>N</td>\n",
       "      <td>Y</td>\n",
       "    </tr>\n",
       "    <tr>\n",
       "      <th>3</th>\n",
       "      <td>N</td>\n",
       "      <td>N</td>\n",
       "      <td>N</td>\n",
       "      <td>N</td>\n",
       "      <td>N</td>\n",
       "      <td>N</td>\n",
       "      <td>N</td>\n",
       "      <td>N</td>\n",
       "      <td>Y</td>\n",
       "    </tr>\n",
       "    <tr>\n",
       "      <th>4</th>\n",
       "      <td>N</td>\n",
       "      <td>N</td>\n",
       "      <td>N</td>\n",
       "      <td>N</td>\n",
       "      <td>N</td>\n",
       "      <td>N</td>\n",
       "      <td>Y</td>\n",
       "      <td>N</td>\n",
       "      <td>N</td>\n",
       "    </tr>\n",
       "  </tbody>\n",
       "</table>\n",
       "</div>"
      ],
      "text/plain": [
       "  Desk Executive Chair Standard Chair Monitor Printer Computer Insurance  \\\n",
       "0    N               N              N       N       N        N         Y   \n",
       "1    N               N              N       N       N        N         N   \n",
       "2    N               N              N       N       N        N         N   \n",
       "3    N               N              N       N       N        N         N   \n",
       "4    N               N              N       N       N        N         Y   \n",
       "\n",
       "  Toner Office Supplies  \n",
       "0     N               Y  \n",
       "1     N               Y  \n",
       "2     N               Y  \n",
       "3     N               Y  \n",
       "4     N               N  "
      ]
     },
     "execution_count": 104,
     "metadata": {},
     "output_type": "execute_result"
    }
   ],
   "source": [
    "prods.head()"
   ]
  },
  {
   "cell_type": "code",
   "execution_count": 140,
   "metadata": {},
   "outputs": [],
   "source": [
    "def y_no_binary(x):\n",
    "    if x == \"Y\":\n",
    "        return 1\n",
    "    else:\n",
    "        return 0"
   ]
  },
  {
   "cell_type": "code",
   "execution_count": 141,
   "metadata": {},
   "outputs": [
    {
     "data": {
      "text/plain": [
       "0        0\n",
       "1        0\n",
       "2        0\n",
       "3        0\n",
       "4        0\n",
       "        ..\n",
       "16167    0\n",
       "16168    0\n",
       "16169    0\n",
       "16170    0\n",
       "16171    0\n",
       "Name: Office Supplies, Length: 16162, dtype: int64"
      ]
     },
     "execution_count": 141,
     "metadata": {},
     "output_type": "execute_result"
    }
   ],
   "source": [
    "for cols in products:\n",
    "    data[cols] = data[cols].apply(y_no_binary)\n",
    "data[cols]"
   ]
  },
  {
   "cell_type": "code",
   "execution_count": 142,
   "metadata": {},
   "outputs": [],
   "source": [
    "for cols in products:\n",
    "    data_up_sampled[cols] = data_up_sampled[cols].apply(y_no_binary)"
   ]
  },
  {
   "cell_type": "code",
   "execution_count": 107,
   "metadata": {},
   "outputs": [
    {
     "data": {
      "text/html": [
       "<div>\n",
       "<style scoped>\n",
       "    .dataframe tbody tr th:only-of-type {\n",
       "        vertical-align: middle;\n",
       "    }\n",
       "\n",
       "    .dataframe tbody tr th {\n",
       "        vertical-align: top;\n",
       "    }\n",
       "\n",
       "    .dataframe thead th {\n",
       "        text-align: right;\n",
       "    }\n",
       "</style>\n",
       "<table border=\"1\" class=\"dataframe\">\n",
       "  <thead>\n",
       "    <tr style=\"text-align: right;\">\n",
       "      <th></th>\n",
       "      <th>Customer Number</th>\n",
       "      <th>Campaign Period Sales</th>\n",
       "      <th>Historical Sales Volume</th>\n",
       "      <th>Date of First Purchase</th>\n",
       "      <th>Number of Prior Year Transactions</th>\n",
       "      <th>Do Not Direct Mail Solicit</th>\n",
       "      <th>Do Not Email</th>\n",
       "      <th>Do Not Telemarket</th>\n",
       "      <th>Repurchase Method</th>\n",
       "      <th>Last Transaction Channel</th>\n",
       "      <th>Desk</th>\n",
       "      <th>Executive Chair</th>\n",
       "      <th>Standard Chair</th>\n",
       "      <th>Monitor</th>\n",
       "      <th>Printer</th>\n",
       "      <th>Computer</th>\n",
       "      <th>Insurance</th>\n",
       "      <th>Toner</th>\n",
       "      <th>Office Supplies</th>\n",
       "      <th>Number of Employees</th>\n",
       "      <th>Language</th>\n",
       "      <th>Time since first purchase</th>\n",
       "      <th>Days of contact</th>\n",
       "    </tr>\n",
       "  </thead>\n",
       "  <tbody>\n",
       "    <tr>\n",
       "      <th>0</th>\n",
       "      <td>86734.0</td>\n",
       "      <td>238.704762</td>\n",
       "      <td>146803.428571</td>\n",
       "      <td>1968-10-01</td>\n",
       "      <td>15.0</td>\n",
       "      <td>0.0</td>\n",
       "      <td>0.0</td>\n",
       "      <td>0.0</td>\n",
       "      <td>AUTO RENEW</td>\n",
       "      <td>AUTO RENEW</td>\n",
       "      <td>0</td>\n",
       "      <td>0</td>\n",
       "      <td>0</td>\n",
       "      <td>0</td>\n",
       "      <td>0</td>\n",
       "      <td>0</td>\n",
       "      <td>1</td>\n",
       "      <td>0</td>\n",
       "      <td>1</td>\n",
       "      <td>6-10</td>\n",
       "      <td>English</td>\n",
       "      <td>18789 days 17:55:57.497944</td>\n",
       "      <td>18789</td>\n",
       "    </tr>\n",
       "    <tr>\n",
       "      <th>1</th>\n",
       "      <td>97098.0</td>\n",
       "      <td>281.680000</td>\n",
       "      <td>439984.160000</td>\n",
       "      <td>1981-06-15</td>\n",
       "      <td>22.0</td>\n",
       "      <td>0.0</td>\n",
       "      <td>0.0</td>\n",
       "      <td>0.0</td>\n",
       "      <td>NOTICE</td>\n",
       "      <td>MAIL</td>\n",
       "      <td>0</td>\n",
       "      <td>0</td>\n",
       "      <td>0</td>\n",
       "      <td>0</td>\n",
       "      <td>0</td>\n",
       "      <td>0</td>\n",
       "      <td>0</td>\n",
       "      <td>0</td>\n",
       "      <td>1</td>\n",
       "      <td>11-50</td>\n",
       "      <td>English</td>\n",
       "      <td>14149 days 17:55:57.497944</td>\n",
       "      <td>14149</td>\n",
       "    </tr>\n",
       "    <tr>\n",
       "      <th>2</th>\n",
       "      <td>100836.0</td>\n",
       "      <td>432.857143</td>\n",
       "      <td>970465.714286</td>\n",
       "      <td>1962-11-01</td>\n",
       "      <td>19.0</td>\n",
       "      <td>0.0</td>\n",
       "      <td>0.0</td>\n",
       "      <td>0.0</td>\n",
       "      <td>NOTICE</td>\n",
       "      <td>MAIL</td>\n",
       "      <td>0</td>\n",
       "      <td>0</td>\n",
       "      <td>0</td>\n",
       "      <td>0</td>\n",
       "      <td>0</td>\n",
       "      <td>0</td>\n",
       "      <td>0</td>\n",
       "      <td>0</td>\n",
       "      <td>1</td>\n",
       "      <td>6-10</td>\n",
       "      <td>English</td>\n",
       "      <td>20950 days 17:55:57.497944</td>\n",
       "      <td>20950</td>\n",
       "    </tr>\n",
       "    <tr>\n",
       "      <th>3</th>\n",
       "      <td>116390.0</td>\n",
       "      <td>0.000000</td>\n",
       "      <td>230193.600000</td>\n",
       "      <td>1983-06-01</td>\n",
       "      <td>17.0</td>\n",
       "      <td>0.0</td>\n",
       "      <td>0.0</td>\n",
       "      <td>0.0</td>\n",
       "      <td>NOTICE</td>\n",
       "      <td>PHONE</td>\n",
       "      <td>0</td>\n",
       "      <td>0</td>\n",
       "      <td>0</td>\n",
       "      <td>0</td>\n",
       "      <td>0</td>\n",
       "      <td>0</td>\n",
       "      <td>0</td>\n",
       "      <td>0</td>\n",
       "      <td>1</td>\n",
       "      <td>1-5</td>\n",
       "      <td>English</td>\n",
       "      <td>13433 days 17:55:57.497944</td>\n",
       "      <td>13433</td>\n",
       "    </tr>\n",
       "    <tr>\n",
       "      <th>4</th>\n",
       "      <td>127914.0</td>\n",
       "      <td>1370.166667</td>\n",
       "      <td>27403.333333</td>\n",
       "      <td>1987-07-15</td>\n",
       "      <td>21.0</td>\n",
       "      <td>0.0</td>\n",
       "      <td>0.0</td>\n",
       "      <td>0.0</td>\n",
       "      <td>NOTICE</td>\n",
       "      <td>BRANCH (PHONE)</td>\n",
       "      <td>0</td>\n",
       "      <td>0</td>\n",
       "      <td>0</td>\n",
       "      <td>0</td>\n",
       "      <td>0</td>\n",
       "      <td>0</td>\n",
       "      <td>1</td>\n",
       "      <td>0</td>\n",
       "      <td>0</td>\n",
       "      <td></td>\n",
       "      <td>n/a</td>\n",
       "      <td>11928 days 17:55:57.497944</td>\n",
       "      <td>11928</td>\n",
       "    </tr>\n",
       "  </tbody>\n",
       "</table>\n",
       "</div>"
      ],
      "text/plain": [
       "   Customer Number  Campaign Period Sales  Historical Sales Volume  \\\n",
       "0          86734.0             238.704762            146803.428571   \n",
       "1          97098.0             281.680000            439984.160000   \n",
       "2         100836.0             432.857143            970465.714286   \n",
       "3         116390.0               0.000000            230193.600000   \n",
       "4         127914.0            1370.166667             27403.333333   \n",
       "\n",
       "  Date of First Purchase  Number of Prior Year Transactions  \\\n",
       "0             1968-10-01                               15.0   \n",
       "1             1981-06-15                               22.0   \n",
       "2             1962-11-01                               19.0   \n",
       "3             1983-06-01                               17.0   \n",
       "4             1987-07-15                               21.0   \n",
       "\n",
       "   Do Not Direct Mail Solicit  Do Not Email  Do Not Telemarket  \\\n",
       "0                         0.0           0.0                0.0   \n",
       "1                         0.0           0.0                0.0   \n",
       "2                         0.0           0.0                0.0   \n",
       "3                         0.0           0.0                0.0   \n",
       "4                         0.0           0.0                0.0   \n",
       "\n",
       "  Repurchase Method Last Transaction Channel  Desk  Executive Chair  \\\n",
       "0        AUTO RENEW               AUTO RENEW     0                0   \n",
       "1            NOTICE                     MAIL     0                0   \n",
       "2            NOTICE                     MAIL     0                0   \n",
       "3            NOTICE                    PHONE     0                0   \n",
       "4            NOTICE           BRANCH (PHONE)     0                0   \n",
       "\n",
       "   Standard Chair  Monitor  Printer  Computer  Insurance  Toner  \\\n",
       "0               0        0        0         0          1      0   \n",
       "1               0        0        0         0          0      0   \n",
       "2               0        0        0         0          0      0   \n",
       "3               0        0        0         0          0      0   \n",
       "4               0        0        0         0          1      0   \n",
       "\n",
       "   Office Supplies Number of Employees Language  Time since first purchase  \\\n",
       "0                1                6-10  English 18789 days 17:55:57.497944   \n",
       "1                1               11-50  English 14149 days 17:55:57.497944   \n",
       "2                1                6-10  English 20950 days 17:55:57.497944   \n",
       "3                1                 1-5  English 13433 days 17:55:57.497944   \n",
       "4                0                          n/a 11928 days 17:55:57.497944   \n",
       "\n",
       "   Days of contact  \n",
       "0            18789  \n",
       "1            14149  \n",
       "2            20950  \n",
       "3            13433  \n",
       "4            11928  "
      ]
     },
     "execution_count": 107,
     "metadata": {},
     "output_type": "execute_result"
    }
   ],
   "source": [
    "data.head()"
   ]
  },
  {
   "cell_type": "code",
   "execution_count": 143,
   "metadata": {},
   "outputs": [],
   "source": [
    "def buy_or_not_buy(x):\n",
    "    if x > 0:\n",
    "        return \"Y\"\n",
    "    else:\n",
    "        return \"N\""
   ]
  },
  {
   "cell_type": "code",
   "execution_count": 151,
   "metadata": {},
   "outputs": [],
   "source": [
    "X = data[[\"Historical Sales Volume\",\"Number of Prior Year Transactions\",\"Do Not Direct Mail Solicit\",\"Repurchase Method\",\"Last Transaction Channel\",\n",
    "        \"Days of contact\" ]]\n",
    "X = pd.get_dummies(X,drop_first = True)"
   ]
  },
  {
   "cell_type": "code",
   "execution_count": 152,
   "metadata": {},
   "outputs": [],
   "source": [
    "data[\"made purchase\"] = data[\"Campaign Period Sales\"].apply(buy_or_not_buy)"
   ]
  },
  {
   "cell_type": "code",
   "execution_count": 153,
   "metadata": {},
   "outputs": [],
   "source": [
    "y1 = data[\"made purchase\"]"
   ]
  },
  {
   "cell_type": "code",
   "execution_count": 147,
   "metadata": {},
   "outputs": [],
   "source": [
    "X =  data[[\"Campaign Period Sales\",\"Historical Sales Volume\",\"Number of Prior Year Transactions\",\"made purchase\"]].dropna()\n"
   ]
  },
  {
   "cell_type": "code",
   "execution_count": 148,
   "metadata": {},
   "outputs": [
    {
     "ename": "TypeError",
     "evalue": "'(slice(None, None, None), slice(None, -1, None))' is an invalid key",
     "output_type": "error",
     "traceback": [
      "\u001b[1;31m---------------------------------------------------------------------------\u001b[0m",
      "\u001b[1;31mTypeError\u001b[0m                                 Traceback (most recent call last)",
      "\u001b[1;32m<ipython-input-148-439853710044>\u001b[0m in \u001b[0;36m<module>\u001b[1;34m\u001b[0m\n\u001b[1;32m----> 1\u001b[1;33m \u001b[0mX_train\u001b[0m\u001b[1;33m,\u001b[0m\u001b[0mX_test\u001b[0m\u001b[1;33m,\u001b[0m\u001b[0my_train\u001b[0m\u001b[1;33m,\u001b[0m\u001b[0my_test\u001b[0m \u001b[1;33m=\u001b[0m \u001b[0mtrain_test_split\u001b[0m\u001b[1;33m(\u001b[0m\u001b[0mdata\u001b[0m\u001b[1;33m[\u001b[0m\u001b[1;33m:\u001b[0m\u001b[1;33m,\u001b[0m\u001b[1;33m:\u001b[0m\u001b[1;33m-\u001b[0m\u001b[1;36m1\u001b[0m\u001b[1;33m]\u001b[0m\u001b[1;33m,\u001b[0m\u001b[0mX\u001b[0m\u001b[1;33m[\u001b[0m\u001b[1;34m\"made purchase\"\u001b[0m\u001b[1;33m]\u001b[0m\u001b[1;33m)\u001b[0m\u001b[1;33m\u001b[0m\u001b[1;33m\u001b[0m\u001b[0m\n\u001b[0m",
      "\u001b[1;32m~\\AppData\\Local\\Continuum\\anaconda3\\lib\\site-packages\\pandas\\core\\frame.py\u001b[0m in \u001b[0;36m__getitem__\u001b[1;34m(self, key)\u001b[0m\n\u001b[0;32m   2993\u001b[0m             \u001b[1;32mif\u001b[0m \u001b[0mself\u001b[0m\u001b[1;33m.\u001b[0m\u001b[0mcolumns\u001b[0m\u001b[1;33m.\u001b[0m\u001b[0mnlevels\u001b[0m \u001b[1;33m>\u001b[0m \u001b[1;36m1\u001b[0m\u001b[1;33m:\u001b[0m\u001b[1;33m\u001b[0m\u001b[1;33m\u001b[0m\u001b[0m\n\u001b[0;32m   2994\u001b[0m                 \u001b[1;32mreturn\u001b[0m \u001b[0mself\u001b[0m\u001b[1;33m.\u001b[0m\u001b[0m_getitem_multilevel\u001b[0m\u001b[1;33m(\u001b[0m\u001b[0mkey\u001b[0m\u001b[1;33m)\u001b[0m\u001b[1;33m\u001b[0m\u001b[1;33m\u001b[0m\u001b[0m\n\u001b[1;32m-> 2995\u001b[1;33m             \u001b[0mindexer\u001b[0m \u001b[1;33m=\u001b[0m \u001b[0mself\u001b[0m\u001b[1;33m.\u001b[0m\u001b[0mcolumns\u001b[0m\u001b[1;33m.\u001b[0m\u001b[0mget_loc\u001b[0m\u001b[1;33m(\u001b[0m\u001b[0mkey\u001b[0m\u001b[1;33m)\u001b[0m\u001b[1;33m\u001b[0m\u001b[1;33m\u001b[0m\u001b[0m\n\u001b[0m\u001b[0;32m   2996\u001b[0m             \u001b[1;32mif\u001b[0m \u001b[0mis_integer\u001b[0m\u001b[1;33m(\u001b[0m\u001b[0mindexer\u001b[0m\u001b[1;33m)\u001b[0m\u001b[1;33m:\u001b[0m\u001b[1;33m\u001b[0m\u001b[1;33m\u001b[0m\u001b[0m\n\u001b[0;32m   2997\u001b[0m                 \u001b[0mindexer\u001b[0m \u001b[1;33m=\u001b[0m \u001b[1;33m[\u001b[0m\u001b[0mindexer\u001b[0m\u001b[1;33m]\u001b[0m\u001b[1;33m\u001b[0m\u001b[1;33m\u001b[0m\u001b[0m\n",
      "\u001b[1;32m~\\AppData\\Local\\Continuum\\anaconda3\\lib\\site-packages\\pandas\\core\\indexes\\base.py\u001b[0m in \u001b[0;36mget_loc\u001b[1;34m(self, key, method, tolerance)\u001b[0m\n\u001b[0;32m   2895\u001b[0m                 )\n\u001b[0;32m   2896\u001b[0m             \u001b[1;32mtry\u001b[0m\u001b[1;33m:\u001b[0m\u001b[1;33m\u001b[0m\u001b[1;33m\u001b[0m\u001b[0m\n\u001b[1;32m-> 2897\u001b[1;33m                 \u001b[1;32mreturn\u001b[0m \u001b[0mself\u001b[0m\u001b[1;33m.\u001b[0m\u001b[0m_engine\u001b[0m\u001b[1;33m.\u001b[0m\u001b[0mget_loc\u001b[0m\u001b[1;33m(\u001b[0m\u001b[0mkey\u001b[0m\u001b[1;33m)\u001b[0m\u001b[1;33m\u001b[0m\u001b[1;33m\u001b[0m\u001b[0m\n\u001b[0m\u001b[0;32m   2898\u001b[0m             \u001b[1;32mexcept\u001b[0m \u001b[0mKeyError\u001b[0m\u001b[1;33m:\u001b[0m\u001b[1;33m\u001b[0m\u001b[1;33m\u001b[0m\u001b[0m\n\u001b[0;32m   2899\u001b[0m                 \u001b[1;32mreturn\u001b[0m \u001b[0mself\u001b[0m\u001b[1;33m.\u001b[0m\u001b[0m_engine\u001b[0m\u001b[1;33m.\u001b[0m\u001b[0mget_loc\u001b[0m\u001b[1;33m(\u001b[0m\u001b[0mself\u001b[0m\u001b[1;33m.\u001b[0m\u001b[0m_maybe_cast_indexer\u001b[0m\u001b[1;33m(\u001b[0m\u001b[0mkey\u001b[0m\u001b[1;33m)\u001b[0m\u001b[1;33m)\u001b[0m\u001b[1;33m\u001b[0m\u001b[1;33m\u001b[0m\u001b[0m\n",
      "\u001b[1;32mpandas\\_libs\\index.pyx\u001b[0m in \u001b[0;36mpandas._libs.index.IndexEngine.get_loc\u001b[1;34m()\u001b[0m\n",
      "\u001b[1;32mpandas\\_libs\\index.pyx\u001b[0m in \u001b[0;36mpandas._libs.index.IndexEngine.get_loc\u001b[1;34m()\u001b[0m\n",
      "\u001b[1;31mTypeError\u001b[0m: '(slice(None, None, None), slice(None, -1, None))' is an invalid key"
     ]
    }
   ],
   "source": [
    "#X_train,X_test,y_train,y_test = train_test_split(data[:,:-1],X[\"made purchase\"])"
   ]
  },
  {
   "cell_type": "code",
   "execution_count": 127,
   "metadata": {
    "scrolled": true
   },
   "outputs": [
    {
     "data": {
      "text/plain": [
       "Desk                 911\n",
       "Executive Chair     1157\n",
       "Standard Chair       281\n",
       "Monitor              298\n",
       "Printer              426\n",
       "Computer             230\n",
       "Insurance           1931\n",
       "Toner               1058\n",
       "Office Supplies    11798\n",
       "dtype: int64"
      ]
     },
     "execution_count": 127,
     "metadata": {},
     "output_type": "execute_result"
    }
   ],
   "source": [
    "data[products].sum()"
   ]
  },
  {
   "cell_type": "code",
   "execution_count": 128,
   "metadata": {},
   "outputs": [
    {
     "data": {
      "text/plain": [
       "count    16162.000000\n",
       "mean         0.729984\n",
       "std          0.443982\n",
       "min          0.000000\n",
       "25%          0.000000\n",
       "50%          1.000000\n",
       "75%          1.000000\n",
       "max          1.000000\n",
       "Name: Office Supplies, dtype: float64"
      ]
     },
     "execution_count": 128,
     "metadata": {},
     "output_type": "execute_result"
    }
   ],
   "source": [
    "data[\"Office Supplies\"].describe()"
   ]
  },
  {
   "cell_type": "code",
   "execution_count": 129,
   "metadata": {
    "scrolled": true
   },
   "outputs": [
    {
     "data": {
      "text/plain": [
       "count     16162\n",
       "unique        2\n",
       "top           N\n",
       "freq      11783\n",
       "Name: made purchase, dtype: object"
      ]
     },
     "execution_count": 129,
     "metadata": {},
     "output_type": "execute_result"
    }
   ],
   "source": [
    "data[\"made purchase\"].describe()"
   ]
  },
  {
   "cell_type": "code",
   "execution_count": 149,
   "metadata": {},
   "outputs": [
    {
     "data": {
      "text/plain": [
       "<matplotlib.axes._subplots.AxesSubplot at 0x29d15608240>"
      ]
     },
     "execution_count": 149,
     "metadata": {},
     "output_type": "execute_result"
    },
    {
     "data": {
      "image/png": "[encoded data removed]",
      "text/plain": [
       "<Figure size 432x288 with 1 Axes>"
      ]
     },
     "metadata": {
      "needs_background": "light"
     },
     "output_type": "display_data"
    }
   ],
   "source": [
    "import seaborn as sns\n",
    "sns.countplot(y1)"
   ]
  },
  {
   "cell_type": "code",
   "execution_count": 130,
   "metadata": {},
   "outputs": [
    {
     "data": {
      "text/plain": [
       "N    11783\n",
       "Y     4379\n",
       "Name: made purchase, dtype: int64"
      ]
     },
     "execution_count": 130,
     "metadata": {},
     "output_type": "execute_result"
    }
   ],
   "source": [
    "np.unique(y1)# come back decide if you want to balance suggestion upsample minority class use sklearn resample we want a predictive model\n",
    "# thus want to make sure were not bias want equal representation\n",
    "data[\"made purchase\"].value_counts()"
   ]
  },
  {
   "cell_type": "code",
   "execution_count": 51,
   "metadata": {},
   "outputs": [],
   "source": [
    "from sklearn.utils import resample"
   ]
  },
  {
   "cell_type": "code",
   "execution_count": 53,
   "metadata": {},
   "outputs": [],
   "source": [
    "minority_class = data.loc[data[\"made purchase\"] == \"Y\"]\n",
    "majority_class = data.loc[data[\"made purchase\"]== \"N\"]"
   ]
  },
  {
   "cell_type": "code",
   "execution_count": 57,
   "metadata": {},
   "outputs": [],
   "source": [
    "resampled_minority_class = resample(minority_class,replace = True,n_samples = 11783,random_state = 25)\n",
    "data_up_sampled = pd.concat([majority_class,resampled_minority_class])"
   ]
  },
  {
   "cell_type": "code",
   "execution_count": 59,
   "metadata": {},
   "outputs": [
    {
     "data": {
      "text/plain": [
       "Y    11783\n",
       "N    11783\n",
       "Name: made purchase, dtype: int64"
      ]
     },
     "execution_count": 59,
     "metadata": {},
     "output_type": "execute_result"
    }
   ],
   "source": [
    "data_up_sampled[\"made purchase\"].value_counts()"
   ]
  },
  {
   "cell_type": "code",
   "execution_count": 64,
   "metadata": {},
   "outputs": [],
   "source": [
    "from sklearn.linear_model import LogisticRegression\n",
    "from sklearn.tree import DecisionTreeClassifier"
   ]
  },
  {
   "cell_type": "code",
   "execution_count": 154,
   "metadata": {},
   "outputs": [],
   "source": [
    "clf = LogisticRegression()\n",
    "dtree = DecisionTreeClassifier()"
   ]
  },
  {
   "cell_type": "code",
   "execution_count": 155,
   "metadata": {},
   "outputs": [],
   "source": [
    "#X_train,X_test,y_train,y_test = train_test_split(X,y1)"
   ]
  },
  {
   "cell_type": "code",
   "execution_count": 156,
   "metadata": {},
   "outputs": [
    {
     "data": {
      "text/plain": [
       "DecisionTreeClassifier(class_weight=None, criterion='gini', max_depth=None,\n",
       "                       max_features=None, max_leaf_nodes=None,\n",
       "                       min_impurity_decrease=0.0, min_impurity_split=None,\n",
       "                       min_samples_leaf=1, min_samples_split=2,\n",
       "                       min_weight_fraction_leaf=0.0, presort=False,\n",
       "                       random_state=None, splitter='best')"
      ]
     },
     "execution_count": 156,
     "metadata": {},
     "output_type": "execute_result"
    }
   ],
   "source": [
    "#X_train,X_test,y_train,y_test = train_test_split(X.iloc[:,:-1],X[\"made purchase\"])\n",
    "#dtree.fit(X_train,y_train)"
   ]
  },
  {
   "cell_type": "code",
   "execution_count": 157,
   "metadata": {},
   "outputs": [
    {
     "name": "stderr",
     "output_type": "stream",
     "text": [
      "C:\\Users\\micha\\AppData\\Local\\Continuum\\anaconda3\\lib\\site-packages\\sklearn\\linear_model\\logistic.py:432: FutureWarning: Default solver will be changed to 'lbfgs' in 0.22. Specify a solver to silence this warning.\n",
      "  FutureWarning)\n"
     ]
    },
    {
     "data": {
      "text/plain": [
       "LogisticRegression(C=1.0, class_weight=None, dual=False, fit_intercept=True,\n",
       "                   intercept_scaling=1, l1_ratio=None, max_iter=100,\n",
       "                   multi_class='warn', n_jobs=None, penalty='l2',\n",
       "                   random_state=None, solver='warn', tol=0.0001, verbose=0,\n",
       "                   warm_start=False)"
      ]
     },
     "execution_count": 157,
     "metadata": {},
     "output_type": "execute_result"
    }
   ],
   "source": [
    " #clf.fit(X_train,y_train)"
   ]
  },
  {
   "cell_type": "code",
   "execution_count": 158,
   "metadata": {},
   "outputs": [
    {
     "data": {
      "text/plain": [
       "0.7223459539717891"
      ]
     },
     "execution_count": 158,
     "metadata": {},
     "output_type": "execute_result"
    }
   ],
   "source": [
    "#clf.score(X_test,y_test)"
   ]
  },
  {
   "cell_type": "code",
   "execution_count": 159,
   "metadata": {},
   "outputs": [
    {
     "data": {
      "text/plain": [
       "0.7866864637465973"
      ]
     },
     "execution_count": 159,
     "metadata": {},
     "output_type": "execute_result"
    }
   ],
   "source": [
    "#dtree.score(X_test,y_test)# does better then a performance classifier suggest using random forest."
   ]
  },
  {
   "cell_type": "code",
   "execution_count": 160,
   "metadata": {},
   "outputs": [
    {
     "data": {
      "text/plain": [
       "N    0.722346\n",
       "Y    0.277654\n",
       "Name: made purchase, dtype: float64"
      ]
     },
     "execution_count": 160,
     "metadata": {},
     "output_type": "execute_result"
    }
   ],
   "source": [
    "#y_test.value_counts(normalize=True)"
   ]
  },
  {
   "cell_type": "code",
   "execution_count": 185,
   "metadata": {},
   "outputs": [],
   "source": [
    "X2 = data_up_sampled[[\"Historical Sales Volume\",\"Number of Prior Year Transactions\",\"Do Not Direct Mail Solicit\",\"Repurchase Method\",\"Last Transaction Channel\",\n",
    "        \"Days of contact\" ]]\n",
    "X2 = pd.get_dummies(X2,drop_first = True)\n",
    "y2 = data_up_sampled[\"made purchase\"]#doing classfier model for our upsampled data set to see if upsampling will improve our accuracy of model\n",
    "X2_train,X2_test,y2_train,y2_test = train_test_split(X2,y2)"
   ]
  },
  {
   "cell_type": "code",
   "execution_count": 186,
   "metadata": {},
   "outputs": [
    {
     "name": "stderr",
     "output_type": "stream",
     "text": [
      "C:\\Users\\micha\\AppData\\Local\\Continuum\\anaconda3\\lib\\site-packages\\sklearn\\linear_model\\logistic.py:432: FutureWarning: Default solver will be changed to 'lbfgs' in 0.22. Specify a solver to silence this warning.\n",
      "  FutureWarning)\n"
     ]
    },
    {
     "data": {
      "text/plain": [
       "DecisionTreeClassifier(class_weight=None, criterion='gini', max_depth=None,\n",
       "                       max_features=None, max_leaf_nodes=None,\n",
       "                       min_impurity_decrease=0.0, min_impurity_split=None,\n",
       "                       min_samples_leaf=1, min_samples_split=2,\n",
       "                       min_weight_fraction_leaf=0.0, presort=False,\n",
       "                       random_state=None, splitter='best')"
      ]
     },
     "execution_count": 186,
     "metadata": {},
     "output_type": "execute_result"
    }
   ],
   "source": [
    "clf.fit(X2_train,y2_train)\n",
    "dtree.fit(X2_train,y2_train)"
   ]
  },
  {
   "cell_type": "code",
   "execution_count": 187,
   "metadata": {},
   "outputs": [
    {
     "data": {
      "text/plain": [
       "0.895112016293279"
      ]
     },
     "execution_count": 187,
     "metadata": {},
     "output_type": "execute_result"
    }
   ],
   "source": [
    "dtree.score(X2_test,y2_test)"
   ]
  },
  {
   "cell_type": "code",
   "execution_count": 188,
   "metadata": {},
   "outputs": [
    {
     "data": {
      "text/plain": [
       "0.5203665987780041"
      ]
     },
     "execution_count": 188,
     "metadata": {},
     "output_type": "execute_result"
    }
   ],
   "source": [
    "clf.score(X2_test,y2_test)"
   ]
  },
  {
   "cell_type": "code",
   "execution_count": 189,
   "metadata": {},
   "outputs": [
    {
     "data": {
      "text/plain": [
       "N    0.507298\n",
       "Y    0.492702\n",
       "Name: made purchase, dtype: float64"
      ]
     },
     "execution_count": 189,
     "metadata": {},
     "output_type": "execute_result"
    }
   ],
   "source": [
    "y2_test.value_counts(normalize=True)"
   ]
  },
  {
   "cell_type": "code",
   "execution_count": 193,
   "metadata": {},
   "outputs": [
    {
     "data": {
      "text/plain": [
       "([0, 1, 2, 3, 4, 5, 6, 7, 8, 9, 10, 11, 12, 13],\n",
       " <a list of 14 Text xticklabel objects>)"
      ]
     },
     "execution_count": 193,
     "metadata": {},
     "output_type": "execute_result"
    },
    {
     "data": {
      "image/png": "[encoded data removed]",
      "text/plain": [
       "<Figure size 1440x576 with 1 Axes>"
      ]
     },
     "metadata": {
      "needs_background": "light"
     },
     "output_type": "display_data"
    }
   ],
   "source": [
    "coefs = clf.coef_[0]\n",
    "features = X2.columns\n",
    "plt.figure(figsize=(20,8))\n",
    "plt.bar(features,coefs)\n",
    "plt.xticks(rotation = 90)"
   ]
  },
  {
   "cell_type": "code",
   "execution_count": 167,
   "metadata": {},
   "outputs": [
    {
     "name": "stdout",
     "output_type": "stream",
     "text": [
      "              precision    recall  f1-score   support\n",
      "\n",
      "           N       0.76      0.18      0.29      2919\n",
      "           Y       0.29      0.86      0.43      1122\n",
      "\n",
      "    accuracy                           0.37      4041\n",
      "   macro avg       0.52      0.52      0.36      4041\n",
      "weighted avg       0.63      0.37      0.33      4041\n",
      "\n"
     ]
    }
   ],
   "source": [
    "from sklearn.metrics import classification_report\n",
    "#print(classification_report(y_test,clf.predict(X_test)))"
   ]
  },
  {
   "cell_type": "code",
   "execution_count": 191,
   "metadata": {},
   "outputs": [
    {
     "name": "stdout",
     "output_type": "stream",
     "text": [
      "              precision    recall  f1-score   support\n",
      "\n",
      "           N       0.59      0.17      0.27      2989\n",
      "           Y       0.51      0.88      0.64      2903\n",
      "\n",
      "    accuracy                           0.52      5892\n",
      "   macro avg       0.55      0.53      0.46      5892\n",
      "weighted avg       0.55      0.52      0.45      5892\n",
      "\n"
     ]
    }
   ],
   "source": [
    "print(classification_report(y2_test,clf.predict(X2_test)))"
   ]
  },
  {
   "cell_type": "code",
   "execution_count": 442,
   "metadata": {},
   "outputs": [
    {
     "data": {
      "text/plain": [
       "array([[0.7195284 , 0.2804716 ],\n",
       "       [0.67552302, 0.32447698],\n",
       "       [0.59321425, 0.40678575],\n",
       "       ...,\n",
       "       [0.71018952, 0.28981048],\n",
       "       [0.63819252, 0.36180748],\n",
       "       [0.6605256 , 0.3394744 ]])"
      ]
     },
     "execution_count": 442,
     "metadata": {},
     "output_type": "execute_result"
    }
   ],
   "source": [
    "#probs = clf.predict_proba(X_test)\n",
    "probs"
   ]
  },
  {
   "cell_type": "code",
   "execution_count": 192,
   "metadata": {},
   "outputs": [
    {
     "data": {
      "text/plain": [
       "array([[0.39155574, 0.60844426],\n",
       "       [0.4707523 , 0.5292477 ],\n",
       "       [0.46207587, 0.53792413],\n",
       "       ...,\n",
       "       [0.49768023, 0.50231977],\n",
       "       [0.43318837, 0.56681163],\n",
       "       [0.44289262, 0.55710738]])"
      ]
     },
     "execution_count": 192,
     "metadata": {},
     "output_type": "execute_result"
    }
   ],
   "source": [
    "probs2 = clf.predict_proba(X2_test)\n",
    "probs2"
   ]
  },
  {
   "cell_type": "code",
   "execution_count": 178,
   "metadata": {},
   "outputs": [],
   "source": [
    "altered_predictions = np.where(probs2[:,1] >= .3,\"Y\",\"N\")"
   ]
  },
  {
   "cell_type": "code",
   "execution_count": 183,
   "metadata": {},
   "outputs": [
    {
     "name": "stdout",
     "output_type": "stream",
     "text": [
      "              precision    recall  f1-score   support\n",
      "\n",
      "           N       0.57      0.01      0.02      3009\n",
      "           Y       0.49      0.99      0.66      2883\n",
      "\n",
      "    accuracy                           0.49      5892\n",
      "   macro avg       0.53      0.50      0.34      5892\n",
      "weighted avg       0.53      0.49      0.33      5892\n",
      "\n"
     ]
    }
   ],
   "source": [
    "print(classification_report(y2_test,altered_predictions))"
   ]
  },
  {
   "cell_type": "code",
   "execution_count": 180,
   "metadata": {},
   "outputs": [
    {
     "data": {
      "text/plain": [
       "array([2.13222194e-01, 9.68473769e-02, 1.28795596e-02, 6.20479752e-01,\n",
       "       1.32613147e-02, 0.00000000e+00, 5.08077894e-04, 5.22386150e-03,\n",
       "       3.29876604e-03, 0.00000000e+00, 1.43636395e-02, 5.88212391e-03,\n",
       "       9.92860376e-03, 4.10473021e-03])"
      ]
     },
     "execution_count": 180,
     "metadata": {},
     "output_type": "execute_result"
    }
   ],
   "source": [
    "dtree.feature_importances_"
   ]
  },
  {
   "cell_type": "code",
   "execution_count": 181,
   "metadata": {
    "scrolled": true
   },
   "outputs": [
    {
     "data": {
      "text/plain": [
       "([0, 1, 2, 3, 4, 5, 6, 7, 8, 9, 10, 11, 12, 13],\n",
       " <a list of 14 Text xticklabel objects>)"
      ]
     },
     "execution_count": 181,
     "metadata": {},
     "output_type": "execute_result"
    },
    {
     "data": {
      "image/png": "[encoded data removed]",
      "text/plain": [
       "<Figure size 1440x576 with 1 Axes>"
      ]
     },
     "metadata": {
      "needs_background": "light"
     },
     "output_type": "display_data"
    }
   ],
   "source": [
    "plt.figure(figsize = (20,8))\n",
    "plt.bar(features,dtree.feature_importances_)\n",
    "plt.xticks(rotation = 90) #days of contact is an important feature split, Historical sales volume an important feature"
   ]
  },
  {
   "cell_type": "code",
   "execution_count": 463,
   "metadata": {},
   "outputs": [],
   "source": [
    "#X = data[[\"Historical Sales Volume\",\"Number of Prior Year Transactions\",\"Days of contact\"]]# cant use features like desk,chair,printer etc b/c they are dependent to campaign period sales\n",
    "#Y = data[\"Campaign Period Sales\"]# Historical Sales Volume, Number of Prior Year TRANSaction, Days of contact give insight we dont have"
   ]
  },
  {
   "cell_type": "code",
   "execution_count": 194,
   "metadata": {},
   "outputs": [],
   "source": [
    "X2 = data_up_sampled[[\"Historical Sales Volume\",\"Number of Prior Year Transactions\",\"Days of contact\"]]\n",
    "y2 = data_up_sampled[\"Campaign Period Sales\"]"
   ]
  },
  {
   "cell_type": "code",
   "execution_count": 464,
   "metadata": {},
   "outputs": [],
   "source": [
    "#X_train,X_test,y_train,y_test = train_test_split(X,Y)"
   ]
  },
  {
   "cell_type": "code",
   "execution_count": 195,
   "metadata": {},
   "outputs": [],
   "source": [
    "X2_train,X2_test,y2_train,y2_test = train_test_split(X2,y2)"
   ]
  },
  {
   "cell_type": "code",
   "execution_count": 196,
   "metadata": {},
   "outputs": [],
   "source": [
    "from sklearn.linear_model import LinearRegression\n",
    "from sklearn.tree import DecisionTreeRegressor"
   ]
  },
  {
   "cell_type": "code",
   "execution_count": 197,
   "metadata": {},
   "outputs": [],
   "source": [
    "lr = LinearRegression()\n",
    "tree = DecisionTreeRegressor()"
   ]
  },
  {
   "cell_type": "code",
   "execution_count": 467,
   "metadata": {},
   "outputs": [
    {
     "data": {
      "text/plain": [
       "DecisionTreeRegressor(criterion='mse', max_depth=None, max_features=None,\n",
       "                      max_leaf_nodes=None, min_impurity_decrease=0.0,\n",
       "                      min_impurity_split=None, min_samples_leaf=1,\n",
       "                      min_samples_split=2, min_weight_fraction_leaf=0.0,\n",
       "                      presort=False, random_state=None, splitter='best')"
      ]
     },
     "execution_count": 467,
     "metadata": {},
     "output_type": "execute_result"
    }
   ],
   "source": [
    "#lr.fit(X_train,y_train)\n",
    "#tree.fit(X_train,y_train)"
   ]
  },
  {
   "cell_type": "code",
   "execution_count": 468,
   "metadata": {},
   "outputs": [
    {
     "data": {
      "text/plain": [
       "<BarContainer object of 3 artists>"
      ]
     },
     "execution_count": 468,
     "metadata": {},
     "output_type": "execute_result"
    },
    {
     "data": {
      "image/png": "[encoded data removed]",
      "text/plain": [
       "<Figure size 432x288 with 1 Axes>"
      ]
     },
     "metadata": {
      "needs_background": "light"
     },
     "output_type": "display_data"
    }
   ],
   "source": [
    "#plt.bar(X.columns,lr.coef_[0])"
   ]
  },
  {
   "cell_type": "code",
   "execution_count": 469,
   "metadata": {},
   "outputs": [
    {
     "data": {
      "text/plain": [
       "0.051112051169331485"
      ]
     },
     "execution_count": 469,
     "metadata": {},
     "output_type": "execute_result"
    }
   ],
   "source": [
    "#lr.score(X_test,y_test)"
   ]
  },
  {
   "cell_type": "code",
   "execution_count": 470,
   "metadata": {},
   "outputs": [
    {
     "data": {
      "text/plain": [
       "-0.4020927419314342"
      ]
     },
     "execution_count": 470,
     "metadata": {},
     "output_type": "execute_result"
    }
   ],
   "source": [
    "#tree.score(X_test,y_test)"
   ]
  },
  {
   "cell_type": "code",
   "execution_count": 198,
   "metadata": {},
   "outputs": [
    {
     "data": {
      "text/plain": [
       "DecisionTreeRegressor(criterion='mse', max_depth=None, max_features=None,\n",
       "                      max_leaf_nodes=None, min_impurity_decrease=0.0,\n",
       "                      min_impurity_split=None, min_samples_leaf=1,\n",
       "                      min_samples_split=2, min_weight_fraction_leaf=0.0,\n",
       "                      presort=False, random_state=None, splitter='best')"
      ]
     },
     "execution_count": 198,
     "metadata": {},
     "output_type": "execute_result"
    }
   ],
   "source": [
    "lr.fit(X2_train,y2_train)\n",
    "tree.fit(X2_train,y2_train)"
   ]
  },
  {
   "cell_type": "code",
   "execution_count": 199,
   "metadata": {},
   "outputs": [
    {
     "data": {
      "text/plain": [
       "0.04237093080342291"
      ]
     },
     "execution_count": 199,
     "metadata": {},
     "output_type": "execute_result"
    }
   ],
   "source": [
    "lr.score(X2_test,y2_test)"
   ]
  },
  {
   "cell_type": "code",
   "execution_count": 200,
   "metadata": {},
   "outputs": [
    {
     "data": {
      "text/plain": [
       "0.6459764705160278"
      ]
     },
     "execution_count": 200,
     "metadata": {},
     "output_type": "execute_result"
    }
   ],
   "source": [
    "tree.score(X2_test,y2_test)"
   ]
  },
  {
   "cell_type": "code",
   "execution_count": 201,
   "metadata": {},
   "outputs": [
    {
     "data": {
      "text/plain": [
       "<BarContainer object of 3 artists>"
      ]
     },
     "execution_count": 201,
     "metadata": {},
     "output_type": "execute_result"
    },
    {
     "data": {
      "image/png": "[encoded data removed]",
      "text/plain": [
       "<Figure size 432x288 with 1 Axes>"
      ]
     },
     "metadata": {
      "needs_background": "light"
     },
     "output_type": "display_data"
    }
   ],
   "source": [
    "plt.bar(X2.columns,lr.coef_[0])"
   ]
  },
  {
   "cell_type": "code",
   "execution_count": 200,
   "metadata": {
    "scrolled": true
   },
   "outputs": [
    {
     "data": {
      "text/plain": [
       "0        Y\n",
       "1        Y\n",
       "2        Y\n",
       "3        N\n",
       "4        Y\n",
       "        ..\n",
       "16167    N\n",
       "16168    N\n",
       "16169    N\n",
       "16170    N\n",
       "16171    N\n",
       "Name: made purchase, Length: 16162, dtype: object"
      ]
     },
     "execution_count": 200,
     "metadata": {},
     "output_type": "execute_result"
    }
   ],
   "source": [
    "data[\"made purchase\"] = data[\"Campaign Period Sales\"].apply(buy_or_not_buy) # try going back and going through the items column and checking to see if they bought or not\n",
    "data[\"made purchase\"]"
   ]
  },
  {
   "cell_type": "code",
   "execution_count": 158,
   "metadata": {},
   "outputs": [],
   "source": [
    "X = data[[\"Campaign Period Sales\",\"Historical Sales Volume\",\"Number of Prior Year Transactions\",\"made purchase\"]]\n",
    "#double bracket want to return a dataframe as oppose to a series\n",
    "# when chosing mutiple columns have to pass it in as a container"
   ]
  },
  {
   "cell_type": "code",
   "execution_count": 159,
   "metadata": {},
   "outputs": [
    {
     "data": {
      "text/html": [
       "<div>\n",
       "<style scoped>\n",
       "    .dataframe tbody tr th:only-of-type {\n",
       "        vertical-align: middle;\n",
       "    }\n",
       "\n",
       "    .dataframe tbody tr th {\n",
       "        vertical-align: top;\n",
       "    }\n",
       "\n",
       "    .dataframe thead th {\n",
       "        text-align: right;\n",
       "    }\n",
       "</style>\n",
       "<table border=\"1\" class=\"dataframe\">\n",
       "  <thead>\n",
       "    <tr style=\"text-align: right;\">\n",
       "      <th></th>\n",
       "      <th>Campaign Period Sales</th>\n",
       "      <th>Historical Sales Volume</th>\n",
       "      <th>Number of Prior Year Transactions</th>\n",
       "      <th>made purchase</th>\n",
       "    </tr>\n",
       "  </thead>\n",
       "  <tbody>\n",
       "    <tr>\n",
       "      <th>0</th>\n",
       "      <td>238.704762</td>\n",
       "      <td>146803.428571</td>\n",
       "      <td>15.0</td>\n",
       "      <td>Y</td>\n",
       "    </tr>\n",
       "    <tr>\n",
       "      <th>1</th>\n",
       "      <td>281.680000</td>\n",
       "      <td>439984.160000</td>\n",
       "      <td>22.0</td>\n",
       "      <td>Y</td>\n",
       "    </tr>\n",
       "    <tr>\n",
       "      <th>2</th>\n",
       "      <td>432.857143</td>\n",
       "      <td>970465.714286</td>\n",
       "      <td>19.0</td>\n",
       "      <td>Y</td>\n",
       "    </tr>\n",
       "    <tr>\n",
       "      <th>3</th>\n",
       "      <td>0.000000</td>\n",
       "      <td>230193.600000</td>\n",
       "      <td>17.0</td>\n",
       "      <td>N</td>\n",
       "    </tr>\n",
       "    <tr>\n",
       "      <th>4</th>\n",
       "      <td>1370.166667</td>\n",
       "      <td>27403.333333</td>\n",
       "      <td>21.0</td>\n",
       "      <td>Y</td>\n",
       "    </tr>\n",
       "  </tbody>\n",
       "</table>\n",
       "</div>"
      ],
      "text/plain": [
       "   Campaign Period Sales  Historical Sales Volume  \\\n",
       "0             238.704762            146803.428571   \n",
       "1             281.680000            439984.160000   \n",
       "2             432.857143            970465.714286   \n",
       "3               0.000000            230193.600000   \n",
       "4            1370.166667             27403.333333   \n",
       "\n",
       "   Number of Prior Year Transactions made purchase  \n",
       "0                               15.0             Y  \n",
       "1                               22.0             Y  \n",
       "2                               19.0             Y  \n",
       "3                               17.0             N  \n",
       "4                               21.0             Y  "
      ]
     },
     "execution_count": 159,
     "metadata": {},
     "output_type": "execute_result"
    }
   ],
   "source": [
    "X.head()"
   ]
  }
 ],
 "metadata": {
  "kernelspec": {
   "display_name": "Python 3",
   "language": "python",
   "name": "python3"
  },
  "language_info": {
   "codemirror_mode": {
    "name": "ipython",
    "version": 3
   },
   "file_extension": ".py",
   "mimetype": "text/x-python",
   "name": "python",
   "nbconvert_exporter": "python",
   "pygments_lexer": "ipython3",
   "version": "3.7.3"
  }
 },
 "nbformat": 4,
 "nbformat_minor": 2
}
