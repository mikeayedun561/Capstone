{
 "cells": [
  {
   "cell_type": "code",
   "execution_count": 30,
   "metadata": {},
   "outputs": [],
   "source": [
    "import numpy as np\n",
    "import pandas as pd\n",
    "import matplotlib.pyplot as plt\n",
    "import sklearn\n",
    "import seaborn as sns"
   ]
  },
  {
   "cell_type": "code",
   "execution_count": 31,
   "metadata": {},
   "outputs": [
    {
     "name": "stdout",
     "output_type": "stream",
     "text": [
      "       Customer Number  Campaign Period Sales  Historical Sales Volume  \\\n",
      "16168      167014041.0                    0.0             2.558801e+06   \n",
      "16169      167077817.0                    0.0             2.355030e+06   \n",
      "16170      167089540.0                    0.0             5.845700e+05   \n",
      "16171      167235933.0                    0.0             1.949425e+06   \n",
      "16172              NaN                    NaN                      NaN   \n",
      "\n",
      "      Date of First Purchase  Number of Prior Year Transactions  \\\n",
      "16168             1994-06-01                                7.0   \n",
      "16169             1995-01-01                                6.0   \n",
      "16170             1996-02-01                                2.0   \n",
      "16171             1998-03-15                                4.0   \n",
      "16172                    NaT                                NaN   \n",
      "\n",
      "       Do Not Direct Mail Solicit  Do Not Email  Do Not Telemarket  \\\n",
      "16168                         0.0           0.0                0.0   \n",
      "16169                         0.0           0.0                0.0   \n",
      "16170                         0.0           1.0                0.0   \n",
      "16171                         0.0           0.0                0.0   \n",
      "16172                         NaN           NaN                NaN   \n",
      "\n",
      "      Repurchase Method Last Transaction Channel  ... Executive Chair  \\\n",
      "16168            NOTICE                     MAIL  ...               N   \n",
      "16169            NOTICE                     MAIL  ...               N   \n",
      "16170            NOTICE                     MAIL  ...               N   \n",
      "16171            NOTICE                    PHONE  ...               N   \n",
      "16172               NaN                      NaN  ...             NaN   \n",
      "\n",
      "      Standard Chair Monitor Printer Computer Insurance Toner Office Supplies  \\\n",
      "16168              N       N       N        N         N     N               N   \n",
      "16169              N       N       N        N         N     N               N   \n",
      "16170              N       N       N        N         N     N               N   \n",
      "16171              N       N       N        N         N     N               N   \n",
      "16172            NaN     NaN     NaN      NaN       NaN   NaN             NaN   \n",
      "\n",
      "      Number of Employees Language  \n",
      "16168                          NaN  \n",
      "16169                          NaN  \n",
      "16170                          NaN  \n",
      "16171                          NaN  \n",
      "16172                 NaN      NaN  \n",
      "\n",
      "[5 rows x 21 columns]\n"
     ]
    }
   ],
   "source": [
    "data = pd.read_excel(\"C:/Users/micha/Downloads/Office_Supply_Campaign_ResultS_7-23-19.xlsx\")\n",
    "print(data.tail())"
   ]
  },
  {
   "cell_type": "code",
   "execution_count": 32,
   "metadata": {},
   "outputs": [
    {
     "data": {
      "text/plain": [
       "Customer Number                             float64\n",
       "Campaign Period Sales                       float64\n",
       "Historical Sales Volume                     float64\n",
       "Date of First Purchase               datetime64[ns]\n",
       "Number of Prior Year Transactions           float64\n",
       "Do Not Direct Mail Solicit                  float64\n",
       "Do Not Email                                float64\n",
       "Do Not Telemarket                           float64\n",
       "Repurchase Method                            object\n",
       "Last Transaction Channel                     object\n",
       "Desk                                         object\n",
       "Executive Chair                              object\n",
       "Standard Chair                               object\n",
       "Monitor                                      object\n",
       "Printer                                      object\n",
       "Computer                                     object\n",
       "Insurance                                    object\n",
       "Toner                                        object\n",
       "Office Supplies                              object\n",
       "Number of Employees                          object\n",
       "Language                                     object\n",
       "dtype: object"
      ]
     },
     "execution_count": 32,
     "metadata": {},
     "output_type": "execute_result"
    }
   ],
   "source": [
    "data.dtypes"
   ]
  },
  {
   "cell_type": "code",
   "execution_count": 33,
   "metadata": {
    "scrolled": false
   },
   "outputs": [
    {
     "name": "stdout",
     "output_type": "stream",
     "text": [
      "<class 'pandas.core.frame.DataFrame'>\n",
      "RangeIndex: 16173 entries, 0 to 16172\n",
      "Data columns (total 21 columns):\n",
      "Customer Number                      16172 non-null float64\n",
      "Campaign Period Sales                16172 non-null float64\n",
      "Historical Sales Volume              16172 non-null float64\n",
      "Date of First Purchase               16172 non-null datetime64[ns]\n",
      "Number of Prior Year Transactions    16172 non-null float64\n",
      "Do Not Direct Mail Solicit           16172 non-null float64\n",
      "Do Not Email                         16172 non-null float64\n",
      "Do Not Telemarket                    16172 non-null float64\n",
      "Repurchase Method                    16172 non-null object\n",
      "Last Transaction Channel             15730 non-null object\n",
      "Desk                                 16173 non-null object\n",
      "Executive Chair                      16171 non-null object\n",
      "Standard Chair                       16171 non-null object\n",
      "Monitor                              16171 non-null object\n",
      "Printer                              16171 non-null object\n",
      "Computer                             16172 non-null object\n",
      "Insurance                            16170 non-null object\n",
      "Toner                                16170 non-null object\n",
      "Office Supplies                      16172 non-null object\n",
      "Number of Employees                  16170 non-null object\n",
      "Language                             11701 non-null object\n",
      "dtypes: datetime64[ns](1), float64(7), object(13)\n",
      "memory usage: 2.6+ MB\n"
     ]
    }
   ],
   "source": [
    "data.info()"
   ]
  },
  {
   "cell_type": "code",
   "execution_count": 34,
   "metadata": {},
   "outputs": [
    {
     "data": {
      "text/plain": [
       "Customer Number                         1\n",
       "Campaign Period Sales                   1\n",
       "Historical Sales Volume                 1\n",
       "Date of First Purchase                  1\n",
       "Number of Prior Year Transactions       1\n",
       "Do Not Direct Mail Solicit              1\n",
       "Do Not Email                            1\n",
       "Do Not Telemarket                       1\n",
       "Repurchase Method                       1\n",
       "Last Transaction Channel              443\n",
       "Desk                                    0\n",
       "Executive Chair                         2\n",
       "Standard Chair                          2\n",
       "Monitor                                 2\n",
       "Printer                                 2\n",
       "Computer                                1\n",
       "Insurance                               3\n",
       "Toner                                   3\n",
       "Office Supplies                         1\n",
       "Number of Employees                     3\n",
       "Language                             4472\n",
       "dtype: int64"
      ]
     },
     "execution_count": 34,
     "metadata": {},
     "output_type": "execute_result"
    }
   ],
   "source": [
    "data.isnull().sum()"
   ]
  },
  {
   "cell_type": "code",
   "execution_count": 38,
   "metadata": {},
   "outputs": [
    {
     "data": {
      "text/plain": [
       "MAIL              7769\n",
       "AUTO RENEW        3141\n",
       "WEB               2648\n",
       "PHONE             1096\n",
       "BRANCH (POS)       633\n",
       "missing            443\n",
       "BRANCH (PHONE)     411\n",
       "BILLING             18\n",
       "IT                  14\n",
       "Name: Last Transaction Channel, dtype: int64"
      ]
     },
     "execution_count": 38,
     "metadata": {},
     "output_type": "execute_result"
    }
   ],
   "source": [
    "data['Last Transaction Channel'].value_counts()"
   ]
  },
  {
   "cell_type": "code",
   "execution_count": 39,
   "metadata": {},
   "outputs": [
    {
     "data": {
      "text/plain": [
       "MAIL              7769\n",
       "AUTO RENEW        3141\n",
       "WEB               2648\n",
       "PHONE             1096\n",
       "BRANCH (POS)       633\n",
       "missing            443\n",
       "BRANCH (PHONE)     411\n",
       "BILLING             18\n",
       "IT                  14\n",
       "Name: Last Transaction Channel, dtype: int64"
      ]
     },
     "execution_count": 39,
     "metadata": {},
     "output_type": "execute_result"
    }
   ],
   "source": [
    "data['Last Transaction Channel'].fillna('missing',inplace = True)\n",
    "data['Last Transaction Channel'].value_counts()"
   ]
  },
  {
   "cell_type": "code",
   "execution_count": 40,
   "metadata": {},
   "outputs": [],
   "source": [
    "data['Language'].value_counts()\n",
    "data.loc[data['Language']!= 'English',[\"Language\"]] = \"Not-English\"\n",
    "data[\"Language\"].fillna(\"missing\",inplace = True)"
   ]
  },
  {
   "cell_type": "code",
   "execution_count": 41,
   "metadata": {},
   "outputs": [
    {
     "name": "stdout",
     "output_type": "stream",
     "text": [
      "<class 'pandas.core.frame.DataFrame'>\n",
      "RangeIndex: 16173 entries, 0 to 16172\n",
      "Data columns (total 21 columns):\n",
      "Customer Number                      16172 non-null float64\n",
      "Campaign Period Sales                16172 non-null float64\n",
      "Historical Sales Volume              16172 non-null float64\n",
      "Date of First Purchase               16172 non-null datetime64[ns]\n",
      "Number of Prior Year Transactions    16172 non-null float64\n",
      "Do Not Direct Mail Solicit           16172 non-null float64\n",
      "Do Not Email                         16172 non-null float64\n",
      "Do Not Telemarket                    16172 non-null float64\n",
      "Repurchase Method                    16172 non-null object\n",
      "Last Transaction Channel             16173 non-null object\n",
      "Desk                                 16173 non-null object\n",
      "Executive Chair                      16171 non-null object\n",
      "Standard Chair                       16171 non-null object\n",
      "Monitor                              16171 non-null object\n",
      "Printer                              16171 non-null object\n",
      "Computer                             16172 non-null object\n",
      "Insurance                            16170 non-null object\n",
      "Toner                                16170 non-null object\n",
      "Office Supplies                      16172 non-null object\n",
      "Number of Employees                  16170 non-null object\n",
      "Language                             16173 non-null object\n",
      "dtypes: datetime64[ns](1), float64(7), object(13)\n",
      "memory usage: 2.6+ MB\n"
     ]
    }
   ],
   "source": [
    "data.info()"
   ]
  },
  {
   "cell_type": "code",
   "execution_count": 42,
   "metadata": {},
   "outputs": [],
   "source": [
    "data.dropna(inplace = True)"
   ]
  },
  {
   "cell_type": "code",
   "execution_count": 43,
   "metadata": {},
   "outputs": [
    {
     "name": "stdout",
     "output_type": "stream",
     "text": [
      "<class 'pandas.core.frame.DataFrame'>\n",
      "Int64Index: 16168 entries, 0 to 16171\n",
      "Data columns (total 21 columns):\n",
      "Customer Number                      16168 non-null float64\n",
      "Campaign Period Sales                16168 non-null float64\n",
      "Historical Sales Volume              16168 non-null float64\n",
      "Date of First Purchase               16168 non-null datetime64[ns]\n",
      "Number of Prior Year Transactions    16168 non-null float64\n",
      "Do Not Direct Mail Solicit           16168 non-null float64\n",
      "Do Not Email                         16168 non-null float64\n",
      "Do Not Telemarket                    16168 non-null float64\n",
      "Repurchase Method                    16168 non-null object\n",
      "Last Transaction Channel             16168 non-null object\n",
      "Desk                                 16168 non-null object\n",
      "Executive Chair                      16168 non-null object\n",
      "Standard Chair                       16168 non-null object\n",
      "Monitor                              16168 non-null object\n",
      "Printer                              16168 non-null object\n",
      "Computer                             16168 non-null object\n",
      "Insurance                            16168 non-null object\n",
      "Toner                                16168 non-null object\n",
      "Office Supplies                      16168 non-null object\n",
      "Number of Employees                  16168 non-null object\n",
      "Language                             16168 non-null object\n",
      "dtypes: datetime64[ns](1), float64(7), object(13)\n",
      "memory usage: 2.7+ MB\n"
     ]
    }
   ],
   "source": [
    "data.info()"
   ]
  },
  {
   "cell_type": "code",
   "execution_count": 44,
   "metadata": {},
   "outputs": [
    {
     "data": {
      "text/html": [
       "<div>\n",
       "<style scoped>\n",
       "    .dataframe tbody tr th:only-of-type {\n",
       "        vertical-align: middle;\n",
       "    }\n",
       "\n",
       "    .dataframe tbody tr th {\n",
       "        vertical-align: top;\n",
       "    }\n",
       "\n",
       "    .dataframe thead th {\n",
       "        text-align: right;\n",
       "    }\n",
       "</style>\n",
       "<table border=\"1\" class=\"dataframe\">\n",
       "  <thead>\n",
       "    <tr style=\"text-align: right;\">\n",
       "      <th></th>\n",
       "      <th>Customer Number</th>\n",
       "      <th>Campaign Period Sales</th>\n",
       "      <th>Historical Sales Volume</th>\n",
       "      <th>Date of First Purchase</th>\n",
       "      <th>Number of Prior Year Transactions</th>\n",
       "      <th>Do Not Direct Mail Solicit</th>\n",
       "      <th>Do Not Email</th>\n",
       "      <th>Do Not Telemarket</th>\n",
       "      <th>Repurchase Method</th>\n",
       "      <th>Last Transaction Channel</th>\n",
       "      <th>...</th>\n",
       "      <th>Executive Chair</th>\n",
       "      <th>Standard Chair</th>\n",
       "      <th>Monitor</th>\n",
       "      <th>Printer</th>\n",
       "      <th>Computer</th>\n",
       "      <th>Insurance</th>\n",
       "      <th>Toner</th>\n",
       "      <th>Office Supplies</th>\n",
       "      <th>Number of Employees</th>\n",
       "      <th>Language</th>\n",
       "    </tr>\n",
       "  </thead>\n",
       "  <tbody>\n",
       "    <tr>\n",
       "      <th>0</th>\n",
       "      <td>86734.0</td>\n",
       "      <td>238.704762</td>\n",
       "      <td>146803.428571</td>\n",
       "      <td>1968-10-01</td>\n",
       "      <td>15.0</td>\n",
       "      <td>0.0</td>\n",
       "      <td>0.0</td>\n",
       "      <td>0.0</td>\n",
       "      <td>AUTO RENEW</td>\n",
       "      <td>AUTO RENEW</td>\n",
       "      <td>...</td>\n",
       "      <td>N</td>\n",
       "      <td>N</td>\n",
       "      <td>N</td>\n",
       "      <td>N</td>\n",
       "      <td>N</td>\n",
       "      <td>Y</td>\n",
       "      <td>N</td>\n",
       "      <td>Y</td>\n",
       "      <td>6-10</td>\n",
       "      <td>English</td>\n",
       "    </tr>\n",
       "    <tr>\n",
       "      <th>1</th>\n",
       "      <td>97098.0</td>\n",
       "      <td>281.680000</td>\n",
       "      <td>439984.160000</td>\n",
       "      <td>1981-06-15</td>\n",
       "      <td>22.0</td>\n",
       "      <td>0.0</td>\n",
       "      <td>0.0</td>\n",
       "      <td>0.0</td>\n",
       "      <td>NOTICE</td>\n",
       "      <td>MAIL</td>\n",
       "      <td>...</td>\n",
       "      <td>N</td>\n",
       "      <td>N</td>\n",
       "      <td>N</td>\n",
       "      <td>N</td>\n",
       "      <td>N</td>\n",
       "      <td>N</td>\n",
       "      <td>N</td>\n",
       "      <td>Y</td>\n",
       "      <td>11-50</td>\n",
       "      <td>English</td>\n",
       "    </tr>\n",
       "    <tr>\n",
       "      <th>2</th>\n",
       "      <td>100836.0</td>\n",
       "      <td>432.857143</td>\n",
       "      <td>970465.714286</td>\n",
       "      <td>1962-11-01</td>\n",
       "      <td>19.0</td>\n",
       "      <td>0.0</td>\n",
       "      <td>0.0</td>\n",
       "      <td>0.0</td>\n",
       "      <td>NOTICE</td>\n",
       "      <td>MAIL</td>\n",
       "      <td>...</td>\n",
       "      <td>N</td>\n",
       "      <td>N</td>\n",
       "      <td>N</td>\n",
       "      <td>N</td>\n",
       "      <td>N</td>\n",
       "      <td>N</td>\n",
       "      <td>N</td>\n",
       "      <td>Y</td>\n",
       "      <td>6-10</td>\n",
       "      <td>English</td>\n",
       "    </tr>\n",
       "    <tr>\n",
       "      <th>3</th>\n",
       "      <td>116390.0</td>\n",
       "      <td>0.000000</td>\n",
       "      <td>230193.600000</td>\n",
       "      <td>1983-06-01</td>\n",
       "      <td>17.0</td>\n",
       "      <td>0.0</td>\n",
       "      <td>0.0</td>\n",
       "      <td>0.0</td>\n",
       "      <td>NOTICE</td>\n",
       "      <td>PHONE</td>\n",
       "      <td>...</td>\n",
       "      <td>N</td>\n",
       "      <td>N</td>\n",
       "      <td>N</td>\n",
       "      <td>N</td>\n",
       "      <td>N</td>\n",
       "      <td>N</td>\n",
       "      <td>N</td>\n",
       "      <td>Y</td>\n",
       "      <td>1-5</td>\n",
       "      <td>English</td>\n",
       "    </tr>\n",
       "    <tr>\n",
       "      <th>4</th>\n",
       "      <td>127914.0</td>\n",
       "      <td>1370.166667</td>\n",
       "      <td>27403.333333</td>\n",
       "      <td>1987-07-15</td>\n",
       "      <td>21.0</td>\n",
       "      <td>0.0</td>\n",
       "      <td>0.0</td>\n",
       "      <td>0.0</td>\n",
       "      <td>NOTICE</td>\n",
       "      <td>BRANCH (PHONE)</td>\n",
       "      <td>...</td>\n",
       "      <td>N</td>\n",
       "      <td>N</td>\n",
       "      <td>N</td>\n",
       "      <td>N</td>\n",
       "      <td>N</td>\n",
       "      <td>Y</td>\n",
       "      <td>N</td>\n",
       "      <td>N</td>\n",
       "      <td></td>\n",
       "      <td>Not-English</td>\n",
       "    </tr>\n",
       "  </tbody>\n",
       "</table>\n",
       "<p>5 rows × 21 columns</p>\n",
       "</div>"
      ],
      "text/plain": [
       "   Customer Number  Campaign Period Sales  Historical Sales Volume  \\\n",
       "0          86734.0             238.704762            146803.428571   \n",
       "1          97098.0             281.680000            439984.160000   \n",
       "2         100836.0             432.857143            970465.714286   \n",
       "3         116390.0               0.000000            230193.600000   \n",
       "4         127914.0            1370.166667             27403.333333   \n",
       "\n",
       "  Date of First Purchase  Number of Prior Year Transactions  \\\n",
       "0             1968-10-01                               15.0   \n",
       "1             1981-06-15                               22.0   \n",
       "2             1962-11-01                               19.0   \n",
       "3             1983-06-01                               17.0   \n",
       "4             1987-07-15                               21.0   \n",
       "\n",
       "   Do Not Direct Mail Solicit  Do Not Email  Do Not Telemarket  \\\n",
       "0                         0.0           0.0                0.0   \n",
       "1                         0.0           0.0                0.0   \n",
       "2                         0.0           0.0                0.0   \n",
       "3                         0.0           0.0                0.0   \n",
       "4                         0.0           0.0                0.0   \n",
       "\n",
       "  Repurchase Method Last Transaction Channel  ... Executive Chair  \\\n",
       "0        AUTO RENEW               AUTO RENEW  ...               N   \n",
       "1            NOTICE                     MAIL  ...               N   \n",
       "2            NOTICE                     MAIL  ...               N   \n",
       "3            NOTICE                    PHONE  ...               N   \n",
       "4            NOTICE           BRANCH (PHONE)  ...               N   \n",
       "\n",
       "  Standard Chair Monitor Printer Computer Insurance Toner Office Supplies  \\\n",
       "0              N       N       N        N         Y     N               Y   \n",
       "1              N       N       N        N         N     N               Y   \n",
       "2              N       N       N        N         N     N               Y   \n",
       "3              N       N       N        N         N     N               Y   \n",
       "4              N       N       N        N         Y     N               N   \n",
       "\n",
       "  Number of Employees     Language  \n",
       "0                6-10      English  \n",
       "1               11-50      English  \n",
       "2                6-10      English  \n",
       "3                 1-5      English  \n",
       "4                      Not-English  \n",
       "\n",
       "[5 rows x 21 columns]"
      ]
     },
     "execution_count": 44,
     "metadata": {},
     "output_type": "execute_result"
    }
   ],
   "source": [
    "data.head()"
   ]
  },
  {
   "cell_type": "code",
   "execution_count": 45,
   "metadata": {},
   "outputs": [],
   "source": [
    "data_types = data.dtypes == \"object\""
   ]
  },
  {
   "cell_type": "code",
   "execution_count": 46,
   "metadata": {},
   "outputs": [
    {
     "name": "stdout",
     "output_type": "stream",
     "text": [
      "Customer Number                      False\n",
      "Campaign Period Sales                False\n",
      "Historical Sales Volume              False\n",
      "Date of First Purchase               False\n",
      "Number of Prior Year Transactions    False\n",
      "Do Not Direct Mail Solicit           False\n",
      "Do Not Email                         False\n",
      "Do Not Telemarket                    False\n",
      "Repurchase Method                     True\n",
      "Last Transaction Channel              True\n",
      "Desk                                  True\n",
      "Executive Chair                       True\n",
      "Standard Chair                        True\n",
      "Monitor                               True\n",
      "Printer                               True\n",
      "Computer                              True\n",
      "Insurance                             True\n",
      "Toner                                 True\n",
      "Office Supplies                       True\n",
      "Number of Employees                   True\n",
      "Language                              True\n",
      "dtype: bool\n"
     ]
    }
   ],
   "source": [
    "print(data_types)"
   ]
  },
  {
   "cell_type": "code",
   "execution_count": 47,
   "metadata": {},
   "outputs": [],
   "source": [
    "obj_columns = []\n",
    "for i,j in enumerate(data_types):\n",
    "    if j:\n",
    "        obj_columns.append(data_types.index[i])\n",
    "        #print(j,(data_types.index[i]))\n",
    "\n",
    "        "
   ]
  },
  {
   "cell_type": "code",
   "execution_count": 48,
   "metadata": {},
   "outputs": [
    {
     "data": {
      "text/plain": [
       "['Repurchase Method',\n",
       " 'Last Transaction Channel',\n",
       " 'Desk',\n",
       " 'Executive Chair',\n",
       " 'Standard Chair',\n",
       " 'Monitor',\n",
       " 'Printer',\n",
       " 'Computer',\n",
       " 'Insurance',\n",
       " 'Toner',\n",
       " 'Office Supplies',\n",
       " 'Number of Employees',\n",
       " 'Language']"
      ]
     },
     "execution_count": 48,
     "metadata": {},
     "output_type": "execute_result"
    }
   ],
   "source": [
    "obj_columns"
   ]
  },
  {
   "cell_type": "code",
   "execution_count": 49,
   "metadata": {},
   "outputs": [],
   "source": [
    "dataframe_object = data.loc[:,obj_columns]\n"
   ]
  },
  {
   "cell_type": "code",
   "execution_count": 50,
   "metadata": {},
   "outputs": [
    {
     "data": {
      "text/html": [
       "<div>\n",
       "<style scoped>\n",
       "    .dataframe tbody tr th:only-of-type {\n",
       "        vertical-align: middle;\n",
       "    }\n",
       "\n",
       "    .dataframe tbody tr th {\n",
       "        vertical-align: top;\n",
       "    }\n",
       "\n",
       "    .dataframe thead th {\n",
       "        text-align: right;\n",
       "    }\n",
       "</style>\n",
       "<table border=\"1\" class=\"dataframe\">\n",
       "  <thead>\n",
       "    <tr style=\"text-align: right;\">\n",
       "      <th></th>\n",
       "      <th>Repurchase Method</th>\n",
       "      <th>Last Transaction Channel</th>\n",
       "      <th>Desk</th>\n",
       "      <th>Executive Chair</th>\n",
       "      <th>Standard Chair</th>\n",
       "      <th>Monitor</th>\n",
       "      <th>Printer</th>\n",
       "      <th>Computer</th>\n",
       "      <th>Insurance</th>\n",
       "      <th>Toner</th>\n",
       "      <th>Office Supplies</th>\n",
       "      <th>Number of Employees</th>\n",
       "      <th>Language</th>\n",
       "    </tr>\n",
       "  </thead>\n",
       "  <tbody>\n",
       "    <tr>\n",
       "      <th>0</th>\n",
       "      <td>AUTO RENEW</td>\n",
       "      <td>AUTO RENEW</td>\n",
       "      <td>N</td>\n",
       "      <td>N</td>\n",
       "      <td>N</td>\n",
       "      <td>N</td>\n",
       "      <td>N</td>\n",
       "      <td>N</td>\n",
       "      <td>Y</td>\n",
       "      <td>N</td>\n",
       "      <td>Y</td>\n",
       "      <td>6-10</td>\n",
       "      <td>English</td>\n",
       "    </tr>\n",
       "    <tr>\n",
       "      <th>1</th>\n",
       "      <td>NOTICE</td>\n",
       "      <td>MAIL</td>\n",
       "      <td>N</td>\n",
       "      <td>N</td>\n",
       "      <td>N</td>\n",
       "      <td>N</td>\n",
       "      <td>N</td>\n",
       "      <td>N</td>\n",
       "      <td>N</td>\n",
       "      <td>N</td>\n",
       "      <td>Y</td>\n",
       "      <td>11-50</td>\n",
       "      <td>English</td>\n",
       "    </tr>\n",
       "    <tr>\n",
       "      <th>2</th>\n",
       "      <td>NOTICE</td>\n",
       "      <td>MAIL</td>\n",
       "      <td>N</td>\n",
       "      <td>N</td>\n",
       "      <td>N</td>\n",
       "      <td>N</td>\n",
       "      <td>N</td>\n",
       "      <td>N</td>\n",
       "      <td>N</td>\n",
       "      <td>N</td>\n",
       "      <td>Y</td>\n",
       "      <td>6-10</td>\n",
       "      <td>English</td>\n",
       "    </tr>\n",
       "    <tr>\n",
       "      <th>3</th>\n",
       "      <td>NOTICE</td>\n",
       "      <td>PHONE</td>\n",
       "      <td>N</td>\n",
       "      <td>N</td>\n",
       "      <td>N</td>\n",
       "      <td>N</td>\n",
       "      <td>N</td>\n",
       "      <td>N</td>\n",
       "      <td>N</td>\n",
       "      <td>N</td>\n",
       "      <td>Y</td>\n",
       "      <td>1-5</td>\n",
       "      <td>English</td>\n",
       "    </tr>\n",
       "    <tr>\n",
       "      <th>4</th>\n",
       "      <td>NOTICE</td>\n",
       "      <td>BRANCH (PHONE)</td>\n",
       "      <td>N</td>\n",
       "      <td>N</td>\n",
       "      <td>N</td>\n",
       "      <td>N</td>\n",
       "      <td>N</td>\n",
       "      <td>N</td>\n",
       "      <td>Y</td>\n",
       "      <td>N</td>\n",
       "      <td>N</td>\n",
       "      <td></td>\n",
       "      <td>Not-English</td>\n",
       "    </tr>\n",
       "  </tbody>\n",
       "</table>\n",
       "</div>"
      ],
      "text/plain": [
       "  Repurchase Method Last Transaction Channel Desk Executive Chair  \\\n",
       "0        AUTO RENEW               AUTO RENEW    N               N   \n",
       "1            NOTICE                     MAIL    N               N   \n",
       "2            NOTICE                     MAIL    N               N   \n",
       "3            NOTICE                    PHONE    N               N   \n",
       "4            NOTICE           BRANCH (PHONE)    N               N   \n",
       "\n",
       "  Standard Chair Monitor Printer Computer Insurance Toner Office Supplies  \\\n",
       "0              N       N       N        N         Y     N               Y   \n",
       "1              N       N       N        N         N     N               Y   \n",
       "2              N       N       N        N         N     N               Y   \n",
       "3              N       N       N        N         N     N               Y   \n",
       "4              N       N       N        N         Y     N               N   \n",
       "\n",
       "  Number of Employees     Language  \n",
       "0                6-10      English  \n",
       "1               11-50      English  \n",
       "2                6-10      English  \n",
       "3                 1-5      English  \n",
       "4                      Not-English  "
      ]
     },
     "execution_count": 50,
     "metadata": {},
     "output_type": "execute_result"
    }
   ],
   "source": [
    "dataframe_object.head()"
   ]
  },
  {
   "cell_type": "code",
   "execution_count": 51,
   "metadata": {},
   "outputs": [
    {
     "data": {
      "text/plain": [
       "6-10       5230\n",
       "           3744\n",
       "1-5        2700\n",
       "11-50      2236\n",
       "51-100     1381\n",
       "101-500     653\n",
       "500+        224\n",
       "Name: Number of Employees, dtype: int64"
      ]
     },
     "execution_count": 51,
     "metadata": {},
     "output_type": "execute_result"
    }
   ],
   "source": [
    "dataframe_object[\"Number of Employees\"].value_counts()"
   ]
  },
  {
   "cell_type": "code",
   "execution_count": 52,
   "metadata": {},
   "outputs": [
    {
     "data": {
      "text/plain": [
       "Index(['6-10', ' ', '1-5', '11-50', '51-100', '101-500', '500+'], dtype='object')"
      ]
     },
     "execution_count": 52,
     "metadata": {},
     "output_type": "execute_result"
    }
   ],
   "source": [
    "dataframe_object[\"Number of Employees\"].value_counts().index"
   ]
  },
  {
   "cell_type": "code",
   "execution_count": 53,
   "metadata": {},
   "outputs": [
    {
     "data": {
      "text/plain": [
       "0          small\n",
       "1         medium\n",
       "2          small\n",
       "3          small\n",
       "4        unknown\n",
       "          ...   \n",
       "16167    unknown\n",
       "16168    unknown\n",
       "16169    unknown\n",
       "16170    unknown\n",
       "16171    unknown\n",
       "Name: Number of Employees, Length: 16168, dtype: object"
      ]
     },
     "execution_count": 53,
     "metadata": {},
     "output_type": "execute_result"
    }
   ],
   "source": [
    "dataframe_object[\"Number of Employees\"] = dataframe_object[\"Number of Employees\"].map({'6-10':'small',\n",
    "                                                                                       ' ':'unknown',\n",
    "                                                                                       '1-5':'small',\n",
    "                                                                                       '11-50':'medium',\n",
    "                                                                                       '51-100':'large', \n",
    "                                                                                       '101-500':'huge', \n",
    "                                                                                       '500+':'huge'})\n",
    "dataframe_object[\"Number of Employees\"]"
   ]
  },
  {
   "cell_type": "code",
   "execution_count": 54,
   "metadata": {},
   "outputs": [
    {
     "data": {
      "text/plain": [
       "NOTICE          11901\n",
       "AUTO RENEW       4266\n",
       "PAYMENT PLAN        1\n",
       "Name: Repurchase Method, dtype: int64"
      ]
     },
     "execution_count": 54,
     "metadata": {},
     "output_type": "execute_result"
    }
   ],
   "source": [
    "dataframe_object['Repurchase Method'].value_counts()"
   ]
  },
  {
   "cell_type": "code",
   "execution_count": 55,
   "metadata": {},
   "outputs": [],
   "source": [
    "cols_to_dummy = ['Repurchase Method',\"Last Transaction Channel\"]"
   ]
  },
  {
   "cell_type": "code",
   "execution_count": 56,
   "metadata": {},
   "outputs": [
    {
     "data": {
      "text/plain": [
       "MAIL              7769\n",
       "AUTO RENEW        3140\n",
       "WEB               2646\n",
       "PHONE             1096\n",
       "BRANCH (POS)       633\n",
       "missing            442\n",
       "BRANCH (PHONE)     411\n",
       "BILLING             17\n",
       "IT                  14\n",
       "Name: Last Transaction Channel, dtype: int64"
      ]
     },
     "execution_count": 56,
     "metadata": {},
     "output_type": "execute_result"
    }
   ],
   "source": [
    "dataframe_object['Last Transaction Channel'].value_counts()"
   ]
  },
  {
   "cell_type": "code",
   "execution_count": 57,
   "metadata": {},
   "outputs": [
    {
     "data": {
      "text/plain": [
       "N     14237\n",
       "Y      1930\n",
       "YY        1\n",
       "Name: Insurance, dtype: int64"
      ]
     },
     "execution_count": 57,
     "metadata": {},
     "output_type": "execute_result"
    }
   ],
   "source": [
    "dataframe_object[\"Insurance\"].value_counts()"
   ]
  },
  {
   "cell_type": "code",
   "execution_count": 58,
   "metadata": {},
   "outputs": [],
   "source": [
    "y_no_convert = [\"Desk\",\"Computer\",\"Insurance\",\"Toner\"]\n",
    "dataframe_object.loc[:,y_no_convert]=dataframe_object[y_no_convert].replace(\"YY\",\"Y\")\n"
   ]
  },
  {
   "cell_type": "code",
   "execution_count": 59,
   "metadata": {},
   "outputs": [
    {
     "data": {
      "text/html": [
       "<div>\n",
       "<style scoped>\n",
       "    .dataframe tbody tr th:only-of-type {\n",
       "        vertical-align: middle;\n",
       "    }\n",
       "\n",
       "    .dataframe tbody tr th {\n",
       "        vertical-align: top;\n",
       "    }\n",
       "\n",
       "    .dataframe thead th {\n",
       "        text-align: right;\n",
       "    }\n",
       "</style>\n",
       "<table border=\"1\" class=\"dataframe\">\n",
       "  <thead>\n",
       "    <tr style=\"text-align: right;\">\n",
       "      <th></th>\n",
       "      <th>Repurchase Method</th>\n",
       "      <th>Last Transaction Channel</th>\n",
       "      <th>Desk</th>\n",
       "      <th>Executive Chair</th>\n",
       "      <th>Standard Chair</th>\n",
       "      <th>Monitor</th>\n",
       "      <th>Printer</th>\n",
       "      <th>Computer</th>\n",
       "      <th>Insurance</th>\n",
       "      <th>Toner</th>\n",
       "      <th>Office Supplies</th>\n",
       "      <th>Number of Employees</th>\n",
       "      <th>Language</th>\n",
       "    </tr>\n",
       "  </thead>\n",
       "  <tbody>\n",
       "    <tr>\n",
       "      <th>count</th>\n",
       "      <td>16168</td>\n",
       "      <td>16168</td>\n",
       "      <td>16168</td>\n",
       "      <td>16168</td>\n",
       "      <td>16168</td>\n",
       "      <td>16168</td>\n",
       "      <td>16168</td>\n",
       "      <td>16168</td>\n",
       "      <td>16168</td>\n",
       "      <td>16168</td>\n",
       "      <td>16168</td>\n",
       "      <td>16168</td>\n",
       "      <td>16168</td>\n",
       "    </tr>\n",
       "    <tr>\n",
       "      <th>unique</th>\n",
       "      <td>3</td>\n",
       "      <td>9</td>\n",
       "      <td>2</td>\n",
       "      <td>2</td>\n",
       "      <td>2</td>\n",
       "      <td>2</td>\n",
       "      <td>2</td>\n",
       "      <td>2</td>\n",
       "      <td>2</td>\n",
       "      <td>2</td>\n",
       "      <td>2</td>\n",
       "      <td>5</td>\n",
       "      <td>2</td>\n",
       "    </tr>\n",
       "    <tr>\n",
       "      <th>top</th>\n",
       "      <td>NOTICE</td>\n",
       "      <td>MAIL</td>\n",
       "      <td>N</td>\n",
       "      <td>N</td>\n",
       "      <td>N</td>\n",
       "      <td>N</td>\n",
       "      <td>N</td>\n",
       "      <td>N</td>\n",
       "      <td>N</td>\n",
       "      <td>N</td>\n",
       "      <td>Y</td>\n",
       "      <td>small</td>\n",
       "      <td>English</td>\n",
       "    </tr>\n",
       "    <tr>\n",
       "      <th>freq</th>\n",
       "      <td>11901</td>\n",
       "      <td>7769</td>\n",
       "      <td>15257</td>\n",
       "      <td>15011</td>\n",
       "      <td>15887</td>\n",
       "      <td>15870</td>\n",
       "      <td>15742</td>\n",
       "      <td>15938</td>\n",
       "      <td>14237</td>\n",
       "      <td>15110</td>\n",
       "      <td>11801</td>\n",
       "      <td>7930</td>\n",
       "      <td>11315</td>\n",
       "    </tr>\n",
       "  </tbody>\n",
       "</table>\n",
       "</div>"
      ],
      "text/plain": [
       "       Repurchase Method Last Transaction Channel   Desk Executive Chair  \\\n",
       "count              16168                    16168  16168           16168   \n",
       "unique                 3                        9      2               2   \n",
       "top               NOTICE                     MAIL      N               N   \n",
       "freq               11901                     7769  15257           15011   \n",
       "\n",
       "       Standard Chair Monitor Printer Computer Insurance  Toner  \\\n",
       "count           16168   16168   16168    16168     16168  16168   \n",
       "unique              2       2       2        2         2      2   \n",
       "top                 N       N       N        N         N      N   \n",
       "freq            15887   15870   15742    15938     14237  15110   \n",
       "\n",
       "       Office Supplies Number of Employees Language  \n",
       "count            16168               16168    16168  \n",
       "unique               2                   5        2  \n",
       "top                  Y               small  English  \n",
       "freq             11801                7930    11315  "
      ]
     },
     "execution_count": 59,
     "metadata": {},
     "output_type": "execute_result"
    }
   ],
   "source": [
    "dataframe_object.describe().head()"
   ]
  },
  {
   "cell_type": "code",
   "execution_count": 60,
   "metadata": {},
   "outputs": [],
   "source": [
    "obj_dummied= pd.get_dummies(dataframe_object,drop_first=True)"
   ]
  },
  {
   "cell_type": "code",
   "execution_count": 61,
   "metadata": {},
   "outputs": [
    {
     "name": "stdout",
     "output_type": "stream",
     "text": [
      "<class 'pandas.core.frame.DataFrame'>\n",
      "Int64Index: 16168 entries, 0 to 16171\n",
      "Data columns (total 24 columns):\n",
      "Repurchase Method_NOTICE                   16168 non-null uint8\n",
      "Repurchase Method_PAYMENT PLAN             16168 non-null uint8\n",
      "Last Transaction Channel_BILLING           16168 non-null uint8\n",
      "Last Transaction Channel_BRANCH (PHONE)    16168 non-null uint8\n",
      "Last Transaction Channel_BRANCH (POS)      16168 non-null uint8\n",
      "Last Transaction Channel_IT                16168 non-null uint8\n",
      "Last Transaction Channel_MAIL              16168 non-null uint8\n",
      "Last Transaction Channel_PHONE             16168 non-null uint8\n",
      "Last Transaction Channel_WEB               16168 non-null uint8\n",
      "Last Transaction Channel_missing           16168 non-null uint8\n",
      "Desk_Y                                     16168 non-null uint8\n",
      "Executive Chair_Y                          16168 non-null uint8\n",
      "Standard Chair_Y                           16168 non-null uint8\n",
      "Monitor_Y                                  16168 non-null uint8\n",
      "Printer_Y                                  16168 non-null uint8\n",
      "Computer_Y                                 16168 non-null uint8\n",
      "Insurance_Y                                16168 non-null uint8\n",
      "Toner_Y                                    16168 non-null uint8\n",
      "Office Supplies_Y                          16168 non-null uint8\n",
      "Number of Employees_large                  16168 non-null uint8\n",
      "Number of Employees_medium                 16168 non-null uint8\n",
      "Number of Employees_small                  16168 non-null uint8\n",
      "Number of Employees_unknown                16168 non-null uint8\n",
      "Language_Not-English                       16168 non-null uint8\n",
      "dtypes: uint8(24)\n",
      "memory usage: 505.2 KB\n"
     ]
    }
   ],
   "source": [
    "obj_dummied.info()"
   ]
  },
  {
   "cell_type": "code",
   "execution_count": 30,
   "metadata": {},
   "outputs": [
    {
     "data": {
      "text/plain": [
       "(16168, 21)"
      ]
     },
     "execution_count": 30,
     "metadata": {},
     "output_type": "execute_result"
    }
   ],
   "source": [
    "data.shape"
   ]
  },
  {
   "cell_type": "code",
   "execution_count": 31,
   "metadata": {},
   "outputs": [
    {
     "data": {
      "text/plain": [
       "(16168, 20)"
      ]
     },
     "execution_count": 31,
     "metadata": {},
     "output_type": "execute_result"
    }
   ],
   "source": [
    "obj_dummied.shape"
   ]
  },
  {
   "cell_type": "code",
   "execution_count": 68,
   "metadata": {},
   "outputs": [],
   "source": [
    "cols_type = data.dtypes != \"object\"\n",
    "inds = cols_type.index\n",
    "numerical_col = []\n",
    "for i,col in enumerate(cols_type):\n",
    "    if col:\n",
    "        numerical_col.append(inds[i])"
   ]
  },
  {
   "cell_type": "code",
   "execution_count": 69,
   "metadata": {},
   "outputs": [
    {
     "data": {
      "text/plain": [
       "['Customer Number',\n",
       " 'Campaign Period Sales',\n",
       " 'Historical Sales Volume',\n",
       " 'Date of First Purchase',\n",
       " 'Number of Prior Year Transactions',\n",
       " 'Do Not Direct Mail Solicit',\n",
       " 'Do Not Email',\n",
       " 'Do Not Telemarket']"
      ]
     },
     "execution_count": 69,
     "metadata": {},
     "output_type": "execute_result"
    }
   ],
   "source": [
    "numerical_col"
   ]
  },
  {
   "cell_type": "code",
   "execution_count": 70,
   "metadata": {},
   "outputs": [],
   "source": [
    "clean_data = pd.concat([data[numerical_col],obj_dummied],axis=1,sort = False)"
   ]
  },
  {
   "cell_type": "code",
   "execution_count": 71,
   "metadata": {},
   "outputs": [
    {
     "data": {
      "text/html": [
       "<div>\n",
       "<style scoped>\n",
       "    .dataframe tbody tr th:only-of-type {\n",
       "        vertical-align: middle;\n",
       "    }\n",
       "\n",
       "    .dataframe tbody tr th {\n",
       "        vertical-align: top;\n",
       "    }\n",
       "\n",
       "    .dataframe thead th {\n",
       "        text-align: right;\n",
       "    }\n",
       "</style>\n",
       "<table border=\"1\" class=\"dataframe\">\n",
       "  <thead>\n",
       "    <tr style=\"text-align: right;\">\n",
       "      <th></th>\n",
       "      <th>Customer Number</th>\n",
       "      <th>Campaign Period Sales</th>\n",
       "      <th>Historical Sales Volume</th>\n",
       "      <th>Date of First Purchase</th>\n",
       "      <th>Number of Prior Year Transactions</th>\n",
       "      <th>Do Not Direct Mail Solicit</th>\n",
       "      <th>Do Not Email</th>\n",
       "      <th>Do Not Telemarket</th>\n",
       "      <th>Repurchase Method_NOTICE</th>\n",
       "      <th>Repurchase Method_PAYMENT PLAN</th>\n",
       "      <th>...</th>\n",
       "      <th>Printer_Y</th>\n",
       "      <th>Computer_Y</th>\n",
       "      <th>Insurance_Y</th>\n",
       "      <th>Toner_Y</th>\n",
       "      <th>Office Supplies_Y</th>\n",
       "      <th>Number of Employees_large</th>\n",
       "      <th>Number of Employees_medium</th>\n",
       "      <th>Number of Employees_small</th>\n",
       "      <th>Number of Employees_unknown</th>\n",
       "      <th>Language_Not-English</th>\n",
       "    </tr>\n",
       "  </thead>\n",
       "  <tbody>\n",
       "    <tr>\n",
       "      <th>0</th>\n",
       "      <td>86734.0</td>\n",
       "      <td>238.704762</td>\n",
       "      <td>146803.428571</td>\n",
       "      <td>1968-10-01</td>\n",
       "      <td>15.0</td>\n",
       "      <td>0.0</td>\n",
       "      <td>0.0</td>\n",
       "      <td>0.0</td>\n",
       "      <td>0</td>\n",
       "      <td>0</td>\n",
       "      <td>...</td>\n",
       "      <td>0</td>\n",
       "      <td>0</td>\n",
       "      <td>1</td>\n",
       "      <td>0</td>\n",
       "      <td>1</td>\n",
       "      <td>0</td>\n",
       "      <td>0</td>\n",
       "      <td>1</td>\n",
       "      <td>0</td>\n",
       "      <td>0</td>\n",
       "    </tr>\n",
       "    <tr>\n",
       "      <th>1</th>\n",
       "      <td>97098.0</td>\n",
       "      <td>281.680000</td>\n",
       "      <td>439984.160000</td>\n",
       "      <td>1981-06-15</td>\n",
       "      <td>22.0</td>\n",
       "      <td>0.0</td>\n",
       "      <td>0.0</td>\n",
       "      <td>0.0</td>\n",
       "      <td>1</td>\n",
       "      <td>0</td>\n",
       "      <td>...</td>\n",
       "      <td>0</td>\n",
       "      <td>0</td>\n",
       "      <td>0</td>\n",
       "      <td>0</td>\n",
       "      <td>1</td>\n",
       "      <td>0</td>\n",
       "      <td>1</td>\n",
       "      <td>0</td>\n",
       "      <td>0</td>\n",
       "      <td>0</td>\n",
       "    </tr>\n",
       "    <tr>\n",
       "      <th>2</th>\n",
       "      <td>100836.0</td>\n",
       "      <td>432.857143</td>\n",
       "      <td>970465.714286</td>\n",
       "      <td>1962-11-01</td>\n",
       "      <td>19.0</td>\n",
       "      <td>0.0</td>\n",
       "      <td>0.0</td>\n",
       "      <td>0.0</td>\n",
       "      <td>1</td>\n",
       "      <td>0</td>\n",
       "      <td>...</td>\n",
       "      <td>0</td>\n",
       "      <td>0</td>\n",
       "      <td>0</td>\n",
       "      <td>0</td>\n",
       "      <td>1</td>\n",
       "      <td>0</td>\n",
       "      <td>0</td>\n",
       "      <td>1</td>\n",
       "      <td>0</td>\n",
       "      <td>0</td>\n",
       "    </tr>\n",
       "    <tr>\n",
       "      <th>3</th>\n",
       "      <td>116390.0</td>\n",
       "      <td>0.000000</td>\n",
       "      <td>230193.600000</td>\n",
       "      <td>1983-06-01</td>\n",
       "      <td>17.0</td>\n",
       "      <td>0.0</td>\n",
       "      <td>0.0</td>\n",
       "      <td>0.0</td>\n",
       "      <td>1</td>\n",
       "      <td>0</td>\n",
       "      <td>...</td>\n",
       "      <td>0</td>\n",
       "      <td>0</td>\n",
       "      <td>0</td>\n",
       "      <td>0</td>\n",
       "      <td>1</td>\n",
       "      <td>0</td>\n",
       "      <td>0</td>\n",
       "      <td>1</td>\n",
       "      <td>0</td>\n",
       "      <td>0</td>\n",
       "    </tr>\n",
       "    <tr>\n",
       "      <th>4</th>\n",
       "      <td>127914.0</td>\n",
       "      <td>1370.166667</td>\n",
       "      <td>27403.333333</td>\n",
       "      <td>1987-07-15</td>\n",
       "      <td>21.0</td>\n",
       "      <td>0.0</td>\n",
       "      <td>0.0</td>\n",
       "      <td>0.0</td>\n",
       "      <td>1</td>\n",
       "      <td>0</td>\n",
       "      <td>...</td>\n",
       "      <td>0</td>\n",
       "      <td>0</td>\n",
       "      <td>1</td>\n",
       "      <td>0</td>\n",
       "      <td>0</td>\n",
       "      <td>0</td>\n",
       "      <td>0</td>\n",
       "      <td>0</td>\n",
       "      <td>1</td>\n",
       "      <td>1</td>\n",
       "    </tr>\n",
       "  </tbody>\n",
       "</table>\n",
       "<p>5 rows × 32 columns</p>\n",
       "</div>"
      ],
      "text/plain": [
       "   Customer Number  Campaign Period Sales  Historical Sales Volume  \\\n",
       "0          86734.0             238.704762            146803.428571   \n",
       "1          97098.0             281.680000            439984.160000   \n",
       "2         100836.0             432.857143            970465.714286   \n",
       "3         116390.0               0.000000            230193.600000   \n",
       "4         127914.0            1370.166667             27403.333333   \n",
       "\n",
       "  Date of First Purchase  Number of Prior Year Transactions  \\\n",
       "0             1968-10-01                               15.0   \n",
       "1             1981-06-15                               22.0   \n",
       "2             1962-11-01                               19.0   \n",
       "3             1983-06-01                               17.0   \n",
       "4             1987-07-15                               21.0   \n",
       "\n",
       "   Do Not Direct Mail Solicit  Do Not Email  Do Not Telemarket  \\\n",
       "0                         0.0           0.0                0.0   \n",
       "1                         0.0           0.0                0.0   \n",
       "2                         0.0           0.0                0.0   \n",
       "3                         0.0           0.0                0.0   \n",
       "4                         0.0           0.0                0.0   \n",
       "\n",
       "   Repurchase Method_NOTICE  Repurchase Method_PAYMENT PLAN  ...  Printer_Y  \\\n",
       "0                         0                               0  ...          0   \n",
       "1                         1                               0  ...          0   \n",
       "2                         1                               0  ...          0   \n",
       "3                         1                               0  ...          0   \n",
       "4                         1                               0  ...          0   \n",
       "\n",
       "   Computer_Y  Insurance_Y  Toner_Y  Office Supplies_Y  \\\n",
       "0           0            1        0                  1   \n",
       "1           0            0        0                  1   \n",
       "2           0            0        0                  1   \n",
       "3           0            0        0                  1   \n",
       "4           0            1        0                  0   \n",
       "\n",
       "   Number of Employees_large  Number of Employees_medium  \\\n",
       "0                          0                           0   \n",
       "1                          0                           1   \n",
       "2                          0                           0   \n",
       "3                          0                           0   \n",
       "4                          0                           0   \n",
       "\n",
       "   Number of Employees_small  Number of Employees_unknown  \\\n",
       "0                          1                            0   \n",
       "1                          0                            0   \n",
       "2                          1                            0   \n",
       "3                          1                            0   \n",
       "4                          0                            1   \n",
       "\n",
       "   Language_Not-English  \n",
       "0                     0  \n",
       "1                     0  \n",
       "2                     0  \n",
       "3                     0  \n",
       "4                     1  \n",
       "\n",
       "[5 rows x 32 columns]"
      ]
     },
     "execution_count": 71,
     "metadata": {},
     "output_type": "execute_result"
    }
   ],
   "source": [
    "clean_data.head()"
   ]
  },
  {
   "cell_type": "code",
   "execution_count": 72,
   "metadata": {},
   "outputs": [
    {
     "name": "stdout",
     "output_type": "stream",
     "text": [
      "<class 'pandas.core.frame.DataFrame'>\n",
      "Int64Index: 16168 entries, 0 to 16171\n",
      "Data columns (total 32 columns):\n",
      "Customer Number                            16168 non-null float64\n",
      "Campaign Period Sales                      16168 non-null float64\n",
      "Historical Sales Volume                    16168 non-null float64\n",
      "Date of First Purchase                     16168 non-null datetime64[ns]\n",
      "Number of Prior Year Transactions          16168 non-null float64\n",
      "Do Not Direct Mail Solicit                 16168 non-null float64\n",
      "Do Not Email                               16168 non-null float64\n",
      "Do Not Telemarket                          16168 non-null float64\n",
      "Repurchase Method_NOTICE                   16168 non-null uint8\n",
      "Repurchase Method_PAYMENT PLAN             16168 non-null uint8\n",
      "Last Transaction Channel_BILLING           16168 non-null uint8\n",
      "Last Transaction Channel_BRANCH (PHONE)    16168 non-null uint8\n",
      "Last Transaction Channel_BRANCH (POS)      16168 non-null uint8\n",
      "Last Transaction Channel_IT                16168 non-null uint8\n",
      "Last Transaction Channel_MAIL              16168 non-null uint8\n",
      "Last Transaction Channel_PHONE             16168 non-null uint8\n",
      "Last Transaction Channel_WEB               16168 non-null uint8\n",
      "Last Transaction Channel_missing           16168 non-null uint8\n",
      "Desk_Y                                     16168 non-null uint8\n",
      "Executive Chair_Y                          16168 non-null uint8\n",
      "Standard Chair_Y                           16168 non-null uint8\n",
      "Monitor_Y                                  16168 non-null uint8\n",
      "Printer_Y                                  16168 non-null uint8\n",
      "Computer_Y                                 16168 non-null uint8\n",
      "Insurance_Y                                16168 non-null uint8\n",
      "Toner_Y                                    16168 non-null uint8\n",
      "Office Supplies_Y                          16168 non-null uint8\n",
      "Number of Employees_large                  16168 non-null uint8\n",
      "Number of Employees_medium                 16168 non-null uint8\n",
      "Number of Employees_small                  16168 non-null uint8\n",
      "Number of Employees_unknown                16168 non-null uint8\n",
      "Language_Not-English                       16168 non-null uint8\n",
      "dtypes: datetime64[ns](1), float64(7), uint8(24)\n",
      "memory usage: 1.5 MB\n"
     ]
    }
   ],
   "source": [
    "clean_data.info()"
   ]
  },
  {
   "cell_type": "code",
   "execution_count": 73,
   "metadata": {},
   "outputs": [
    {
     "data": {
      "image/png": "[encoded data removed]",
      "text/plain": [
       "<Figure size 1152x432 with 4 Axes>"
      ]
     },
     "metadata": {
      "needs_background": "light"
     },
     "output_type": "display_data"
    }
   ],
   "source": [
    "clean_data[[\"Campaign Period Sales\",\"Historical Sales Volume\",\"Number of Prior Year Transactions\"]].hist(figsize=(16,6))\n",
    "plt.tight_layout()"
   ]
  },
  {
   "cell_type": "code",
   "execution_count": 74,
   "metadata": {},
   "outputs": [
    {
     "data": {
      "text/html": [
       "<div>\n",
       "<style scoped>\n",
       "    .dataframe tbody tr th:only-of-type {\n",
       "        vertical-align: middle;\n",
       "    }\n",
       "\n",
       "    .dataframe tbody tr th {\n",
       "        vertical-align: top;\n",
       "    }\n",
       "\n",
       "    .dataframe thead th {\n",
       "        text-align: right;\n",
       "    }\n",
       "</style>\n",
       "<table border=\"1\" class=\"dataframe\">\n",
       "  <thead>\n",
       "    <tr style=\"text-align: right;\">\n",
       "      <th></th>\n",
       "      <th>Campaign Period Sales</th>\n",
       "      <th>Historical Sales Volume</th>\n",
       "      <th>Number of Prior Year Transactions</th>\n",
       "    </tr>\n",
       "  </thead>\n",
       "  <tbody>\n",
       "    <tr>\n",
       "      <th>count</th>\n",
       "      <td>16168.000000</td>\n",
       "      <td>1.616800e+04</td>\n",
       "      <td>16168.000000</td>\n",
       "    </tr>\n",
       "    <tr>\n",
       "      <th>mean</th>\n",
       "      <td>245.751989</td>\n",
       "      <td>6.713433e+05</td>\n",
       "      <td>14.484043</td>\n",
       "    </tr>\n",
       "    <tr>\n",
       "      <th>std</th>\n",
       "      <td>720.053152</td>\n",
       "      <td>9.556720e+05</td>\n",
       "      <td>8.030736</td>\n",
       "    </tr>\n",
       "    <tr>\n",
       "      <th>min</th>\n",
       "      <td>-566.500000</td>\n",
       "      <td>-1.643031e+05</td>\n",
       "      <td>1.000000</td>\n",
       "    </tr>\n",
       "    <tr>\n",
       "      <th>25%</th>\n",
       "      <td>0.000000</td>\n",
       "      <td>1.900188e+05</td>\n",
       "      <td>8.000000</td>\n",
       "    </tr>\n",
       "    <tr>\n",
       "      <th>50%</th>\n",
       "      <td>0.000000</td>\n",
       "      <td>3.965039e+05</td>\n",
       "      <td>16.000000</td>\n",
       "    </tr>\n",
       "    <tr>\n",
       "      <th>75%</th>\n",
       "      <td>145.538667</td>\n",
       "      <td>7.871561e+05</td>\n",
       "      <td>20.000000</td>\n",
       "    </tr>\n",
       "    <tr>\n",
       "      <th>max</th>\n",
       "      <td>8936.850000</td>\n",
       "      <td>3.441213e+07</td>\n",
       "      <td>313.000000</td>\n",
       "    </tr>\n",
       "  </tbody>\n",
       "</table>\n",
       "</div>"
      ],
      "text/plain": [
       "       Campaign Period Sales  Historical Sales Volume  \\\n",
       "count           16168.000000             1.616800e+04   \n",
       "mean              245.751989             6.713433e+05   \n",
       "std               720.053152             9.556720e+05   \n",
       "min              -566.500000            -1.643031e+05   \n",
       "25%                 0.000000             1.900188e+05   \n",
       "50%                 0.000000             3.965039e+05   \n",
       "75%               145.538667             7.871561e+05   \n",
       "max              8936.850000             3.441213e+07   \n",
       "\n",
       "       Number of Prior Year Transactions  \n",
       "count                       16168.000000  \n",
       "mean                           14.484043  \n",
       "std                             8.030736  \n",
       "min                             1.000000  \n",
       "25%                             8.000000  \n",
       "50%                            16.000000  \n",
       "75%                            20.000000  \n",
       "max                           313.000000  "
      ]
     },
     "execution_count": 74,
     "metadata": {},
     "output_type": "execute_result"
    }
   ],
   "source": [
    "clean_data[[\"Campaign Period Sales\",\"Historical Sales Volume\",\"Number of Prior Year Transactions\"]].describe()"
   ]
  },
  {
   "cell_type": "code",
   "execution_count": 75,
   "metadata": {},
   "outputs": [
    {
     "data": {
      "text/html": [
       "<div>\n",
       "<style scoped>\n",
       "    .dataframe tbody tr th:only-of-type {\n",
       "        vertical-align: middle;\n",
       "    }\n",
       "\n",
       "    .dataframe tbody tr th {\n",
       "        vertical-align: top;\n",
       "    }\n",
       "\n",
       "    .dataframe thead th {\n",
       "        text-align: right;\n",
       "    }\n",
       "</style>\n",
       "<table border=\"1\" class=\"dataframe\">\n",
       "  <thead>\n",
       "    <tr style=\"text-align: right;\">\n",
       "      <th></th>\n",
       "      <th>Campaign Period Sales</th>\n",
       "      <th>Historical Sales Volume</th>\n",
       "      <th>Number of Prior Year Transactions</th>\n",
       "    </tr>\n",
       "  </thead>\n",
       "  <tbody>\n",
       "    <tr>\n",
       "      <th>count</th>\n",
       "      <td>16168.000000</td>\n",
       "      <td>1.616800e+04</td>\n",
       "      <td>16168.000000</td>\n",
       "    </tr>\n",
       "    <tr>\n",
       "      <th>mean</th>\n",
       "      <td>245.840071</td>\n",
       "      <td>6.713209e+05</td>\n",
       "      <td>14.475878</td>\n",
       "    </tr>\n",
       "    <tr>\n",
       "      <th>std</th>\n",
       "      <td>719.999064</td>\n",
       "      <td>9.556780e+05</td>\n",
       "      <td>8.036521</td>\n",
       "    </tr>\n",
       "    <tr>\n",
       "      <th>min</th>\n",
       "      <td>0.000000</td>\n",
       "      <td>0.000000e+00</td>\n",
       "      <td>0.000000</td>\n",
       "    </tr>\n",
       "    <tr>\n",
       "      <th>25%</th>\n",
       "      <td>0.000000</td>\n",
       "      <td>1.900134e+05</td>\n",
       "      <td>8.000000</td>\n",
       "    </tr>\n",
       "    <tr>\n",
       "      <th>50%</th>\n",
       "      <td>0.000000</td>\n",
       "      <td>3.962959e+05</td>\n",
       "      <td>16.000000</td>\n",
       "    </tr>\n",
       "    <tr>\n",
       "      <th>75%</th>\n",
       "      <td>145.538667</td>\n",
       "      <td>7.871561e+05</td>\n",
       "      <td>20.000000</td>\n",
       "    </tr>\n",
       "    <tr>\n",
       "      <th>max</th>\n",
       "      <td>8936.850000</td>\n",
       "      <td>3.441213e+07</td>\n",
       "      <td>313.000000</td>\n",
       "    </tr>\n",
       "  </tbody>\n",
       "</table>\n",
       "</div>"
      ],
      "text/plain": [
       "       Campaign Period Sales  Historical Sales Volume  \\\n",
       "count           16168.000000             1.616800e+04   \n",
       "mean              245.840071             6.713209e+05   \n",
       "std               719.999064             9.556780e+05   \n",
       "min                 0.000000             0.000000e+00   \n",
       "25%                 0.000000             1.900134e+05   \n",
       "50%                 0.000000             3.962959e+05   \n",
       "75%               145.538667             7.871561e+05   \n",
       "max              8936.850000             3.441213e+07   \n",
       "\n",
       "       Number of Prior Year Transactions  \n",
       "count                       16168.000000  \n",
       "mean                           14.475878  \n",
       "std                             8.036521  \n",
       "min                             0.000000  \n",
       "25%                             8.000000  \n",
       "50%                            16.000000  \n",
       "75%                            20.000000  \n",
       "max                           313.000000  "
      ]
     },
     "execution_count": 75,
     "metadata": {},
     "output_type": "execute_result"
    }
   ],
   "source": [
    "clean_data.loc[clean_data[\"Campaign Period Sales\"]<0] = 0\n",
    "clean_data.loc[clean_data[\"Historical Sales Volume\"]<0] = 0\n",
    "clean_data[[\"Campaign Period Sales\",\"Historical Sales Volume\",\"Number of Prior Year Transactions\"]].describe()"
   ]
  },
  {
   "cell_type": "code",
   "execution_count": 76,
   "metadata": {},
   "outputs": [
    {
     "data": {
      "text/plain": [
       "array([[<matplotlib.axes._subplots.AxesSubplot object at 0x000002412DA16908>,\n",
       "        <matplotlib.axes._subplots.AxesSubplot object at 0x0000024133C51CC0>],\n",
       "       [<matplotlib.axes._subplots.AxesSubplot object at 0x0000024133EB9128>,\n",
       "        <matplotlib.axes._subplots.AxesSubplot object at 0x0000024134168EB8>]],\n",
       "      dtype=object)"
      ]
     },
     "execution_count": 76,
     "metadata": {},
     "output_type": "execute_result"
    },
    {
     "data": {
      "image/png": "[encoded data removed]",
      "text/plain": [
       "<Figure size 1152x432 with 4 Axes>"
      ]
     },
     "metadata": {
      "needs_background": "light"
     },
     "output_type": "display_data"
    }
   ],
   "source": [
    "clean_data[[\"Campaign Period Sales\",\"Historical Sales Volume\",\"Number of Prior Year Transactions\"]].hist(figsize=(16,6))\n"
   ]
  },
  {
   "cell_type": "code",
   "execution_count": 78,
   "metadata": {},
   "outputs": [],
   "source": [
    "clean_data.to_csv(\"Cleaned office supply data.csv\")"
   ]
  },
  {
   "cell_type": "code",
   "execution_count": null,
   "metadata": {},
   "outputs": [],
   "source": []
  }
 ],
 "metadata": {
  "kernelspec": {
   "display_name": "Python 3",
   "language": "python",
   "name": "python3"
  },
  "language_info": {
   "codemirror_mode": {
    "name": "ipython",
    "version": 3
   },
   "file_extension": ".py",
   "mimetype": "text/x-python",
   "name": "python",
   "nbconvert_exporter": "python",
   "pygments_lexer": "ipython3",
   "version": "3.7.3"
  }
 },
 "nbformat": 4,
 "nbformat_minor": 2
}
